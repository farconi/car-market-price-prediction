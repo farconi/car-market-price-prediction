{
 "cells": [
  {
   "cell_type": "markdown",
   "metadata": {},
   "source": [
    "# Car Market Price Prediction - A Rusty Bargain App"
   ]
  },
  {
   "cell_type": "markdown",
   "metadata": {},
   "source": [
    "## Introduction"
   ]
  },
  {
   "cell_type": "markdown",
   "metadata": {},
   "source": [
    "Used car sales service Rusty Bargain is developing an app to attract new customers. Thanks to this application, users can quickly find out the market value of their car. The best option will be to build a machine learning model that allows us to predict the price of the vehicle. for this the company gave us access to the history: technical specifications, equipment versions and prices. Based on this information, we will create a model that makes predictions based on the three interests that the company pursues: prediction quality, prediction speed, and time required for training."
   ]
  },
  {
   "cell_type": "markdown",
   "metadata": {},
   "source": [
    "### Objectives\n"
   ]
  },
  {
   "cell_type": "markdown",
   "metadata": {},
   "source": [
    "* Develop a machine learning model that meets the goals set by Rusty Bargain: prediction quality, prediction speed, and training time.\n",
    "\n",
    "\n",
    "* Train different models and adjust their hyperparameters using different gradient boosting methods."
   ]
  },
  {
   "cell_type": "markdown",
   "metadata": {},
   "source": [
    "## Data Preparation\n"
   ]
  },
  {
   "cell_type": "markdown",
   "metadata": {},
   "source": [
    "### Importing data and libraries\n"
   ]
  },
  {
   "cell_type": "markdown",
   "metadata": {},
   "source": [
    "We'll start by importing all the necessary libraries to build our predictive model.\n",
    "\n",
    "\n",
    "In this project we will work with `Pandas`, `Numpy`, `Scikit-Learn`, `Seaborn` and `Matplotlib` which will allow us to read files, build graphs and develop machine learning models.\n",
    "\n",
    "\n",
    "We'll also work with gradient boost methods, so we'll install the `XGBoost`, `LightGBM` and `CatBoost` libraries."
   ]
  },
  {
   "cell_type": "code",
   "execution_count": 1,
   "metadata": {},
   "outputs": [
    {
     "name": "stdout",
     "output_type": "stream",
     "text": [
      "Requirement already satisfied: xgboost in /opt/conda/lib/python3.9/site-packages (1.5.1)\n",
      "Requirement already satisfied: scipy in /opt/conda/lib/python3.9/site-packages (from xgboost) (1.8.0)\n",
      "Requirement already satisfied: numpy in /opt/conda/lib/python3.9/site-packages (from xgboost) (1.21.1)\n"
     ]
    }
   ],
   "source": [
    "# installing the XGBoost model library\n",
    "!pip install xgboost"
   ]
  },
  {
   "cell_type": "code",
   "execution_count": 2,
   "metadata": {},
   "outputs": [
    {
     "name": "stdout",
     "output_type": "stream",
     "text": [
      "Requirement already satisfied: catboost in /opt/conda/lib/python3.9/site-packages (1.0.3)\n",
      "Requirement already satisfied: graphviz in /opt/conda/lib/python3.9/site-packages (from catboost) (0.20)\n",
      "Requirement already satisfied: matplotlib in /opt/conda/lib/python3.9/site-packages (from catboost) (3.3.4)\n",
      "Requirement already satisfied: plotly in /opt/conda/lib/python3.9/site-packages (from catboost) (5.4.0)\n",
      "Requirement already satisfied: six in /opt/conda/lib/python3.9/site-packages (from catboost) (1.16.0)\n",
      "Requirement already satisfied: scipy in /opt/conda/lib/python3.9/site-packages (from catboost) (1.8.0)\n",
      "Requirement already satisfied: pandas>=0.24.0 in /opt/conda/lib/python3.9/site-packages (from catboost) (1.2.4)\n",
      "Requirement already satisfied: numpy>=1.16.0 in /opt/conda/lib/python3.9/site-packages (from catboost) (1.21.1)\n",
      "Requirement already satisfied: python-dateutil>=2.7.3 in /opt/conda/lib/python3.9/site-packages (from pandas>=0.24.0->catboost) (2.8.1)\n",
      "Requirement already satisfied: pytz>=2017.3 in /opt/conda/lib/python3.9/site-packages (from pandas>=0.24.0->catboost) (2021.1)\n",
      "Requirement already satisfied: cycler>=0.10 in /opt/conda/lib/python3.9/site-packages (from matplotlib->catboost) (0.11.0)\n",
      "Requirement already satisfied: pillow>=6.2.0 in /opt/conda/lib/python3.9/site-packages (from matplotlib->catboost) (8.4.0)\n",
      "Requirement already satisfied: pyparsing!=2.0.4,!=2.1.2,!=2.1.6,>=2.0.3 in /opt/conda/lib/python3.9/site-packages (from matplotlib->catboost) (2.4.7)\n",
      "Requirement already satisfied: kiwisolver>=1.0.1 in /opt/conda/lib/python3.9/site-packages (from matplotlib->catboost) (1.4.2)\n",
      "Requirement already satisfied: tenacity>=6.2.0 in /opt/conda/lib/python3.9/site-packages (from plotly->catboost) (8.0.1)\n"
     ]
    }
   ],
   "source": [
    "# installing the CatBoost model library\n",
    "!pip install catboost"
   ]
  },
  {
   "cell_type": "code",
   "execution_count": 3,
   "metadata": {},
   "outputs": [
    {
     "name": "stdout",
     "output_type": "stream",
     "text": [
      "Requirement already satisfied: lightgbm in /opt/conda/lib/python3.9/site-packages (3.3.1)\n",
      "Requirement already satisfied: wheel in /opt/conda/lib/python3.9/site-packages (from lightgbm) (0.36.2)\n",
      "Requirement already satisfied: scikit-learn!=0.22.0 in /opt/conda/lib/python3.9/site-packages (from lightgbm) (0.24.1)\n",
      "Requirement already satisfied: numpy in /opt/conda/lib/python3.9/site-packages (from lightgbm) (1.21.1)\n",
      "Requirement already satisfied: scipy in /opt/conda/lib/python3.9/site-packages (from lightgbm) (1.8.0)\n",
      "Requirement already satisfied: threadpoolctl>=2.0.0 in /opt/conda/lib/python3.9/site-packages (from scikit-learn!=0.22.0->lightgbm) (3.1.0)\n",
      "Requirement already satisfied: joblib>=0.11 in /opt/conda/lib/python3.9/site-packages (from scikit-learn!=0.22.0->lightgbm) (1.1.0)\n"
     ]
    }
   ],
   "source": [
    "# installing the LightGBM model library\n",
    "!pip install lightgbm"
   ]
  },
  {
   "cell_type": "code",
   "execution_count": 4,
   "metadata": {},
   "outputs": [],
   "source": [
    "# importing the necessary libraries\n",
    "\n",
    "import numpy as np\n",
    "import pandas as pd\n",
    "import seaborn as sns\n",
    "import matplotlib.pyplot as plt\n",
    "import time\n",
    "\n",
    "from statistics import mode\n",
    "from sklearn.model_selection import train_test_split\n",
    "from sklearn.tree import DecisionTreeRegressor\n",
    "from sklearn.ensemble import RandomForestRegressor\n",
    "from sklearn.linear_model import LinearRegression\n",
    "from sklearn.linear_model import LogisticRegression\n",
    "from sklearn.preprocessing import StandardScaler\n",
    "from sklearn.model_selection import cross_val_score\n",
    "from sklearn.metrics import mean_squared_error\n",
    "from sklearn.model_selection import GridSearchCV\n",
    "from sklearn.preprocessing import OrdinalEncoder\n",
    "\n",
    "from catboost import CatBoostClassifier\n",
    "from catboost import CatBoostRegressor\n",
    "from xgboost import XGBRegressor\n",
    "from lightgbm import LGBMRegressor"
   ]
  },
  {
   "cell_type": "markdown",
   "metadata": {},
   "source": [
    "### Initial data exploration\n"
   ]
  },
  {
   "cell_type": "markdown",
   "metadata": {},
   "source": [
    "Now let's read the file that contains the information needed to create our predictive model. For this we will use the `read_csv` function of pandas and pass the address of the file as an argument. Let's save our dataset as `df`."
   ]
  },
  {
   "cell_type": "code",
   "execution_count": 5,
   "metadata": {},
   "outputs": [],
   "source": [
    "df = pd.read_csv('/datasets/car_data.csv')"
   ]
  },
  {
   "cell_type": "markdown",
   "metadata": {},
   "source": [
    "We will do an initial exploration of the data that was previously imported. Rusty Bargain gave us access to the sales history, in which we can find the following information:\n",
    "\n",
    "**Characteristics**\n",
    "\n",
    "- `DateCrawled` — date the profile was downloaded from the database\n",
    "- `VehicleType` — vehicle body type\n",
    "- `RegistrationYear` — vehicle registration year\n",
    "- `Gearbox` — type of gearbox\n",
    "- `Power` — power (CV)\n",
    "- `Model` — vehicle model\n",
    "- `Mileage` — mileage (measured in km according to the regional specifics of the dataset)\n",
    "- `RegistrationMonth` — vehicle registration month\n",
    "- `FuelType` — type of fuel\n",
    "- `Brand` — vehicle brand\n",
    "- `NotRepaired` — vehicle with or without repair\n",
    "- `DateCreated` — profile creation date\n",
    "- `NumberOfPictures` — number of photos of the vehicle\n",
    "- `PostalCode` — profile owner (user) postal code\n",
    "- `LastSeen` — date the user was last active\n",
    "\n",
    "**Goal**\n",
    "- `Price` — price (in euros)"
   ]
  },
  {
   "cell_type": "markdown",
   "metadata": {},
   "source": [
    "We will now call the shape attribute and the head and info methods to better analyze the data we will work with. Next, we will analyze the presence of missing and duplicate values, for this we will call the isna and sum method."
   ]
  },
  {
   "cell_type": "code",
   "execution_count": 6,
   "metadata": {},
   "outputs": [
    {
     "data": {
      "text/plain": [
       "(354369, 16)"
      ]
     },
     "execution_count": 6,
     "metadata": {},
     "output_type": "execute_result"
    }
   ],
   "source": [
    "# knowing the size of our database\n",
    "df.shape"
   ]
  },
  {
   "cell_type": "code",
   "execution_count": 7,
   "metadata": {},
   "outputs": [
    {
     "data": {
      "text/html": [
       "<div>\n",
       "<style scoped>\n",
       "    .dataframe tbody tr th:only-of-type {\n",
       "        vertical-align: middle;\n",
       "    }\n",
       "\n",
       "    .dataframe tbody tr th {\n",
       "        vertical-align: top;\n",
       "    }\n",
       "\n",
       "    .dataframe thead th {\n",
       "        text-align: right;\n",
       "    }\n",
       "</style>\n",
       "<table border=\"1\" class=\"dataframe\">\n",
       "  <thead>\n",
       "    <tr style=\"text-align: right;\">\n",
       "      <th></th>\n",
       "      <th>DateCrawled</th>\n",
       "      <th>Price</th>\n",
       "      <th>VehicleType</th>\n",
       "      <th>RegistrationYear</th>\n",
       "      <th>Gearbox</th>\n",
       "      <th>Power</th>\n",
       "      <th>Model</th>\n",
       "      <th>Mileage</th>\n",
       "      <th>RegistrationMonth</th>\n",
       "      <th>FuelType</th>\n",
       "      <th>Brand</th>\n",
       "      <th>NotRepaired</th>\n",
       "      <th>DateCreated</th>\n",
       "      <th>NumberOfPictures</th>\n",
       "      <th>PostalCode</th>\n",
       "      <th>LastSeen</th>\n",
       "    </tr>\n",
       "  </thead>\n",
       "  <tbody>\n",
       "    <tr>\n",
       "      <th>0</th>\n",
       "      <td>24/03/2016 11:52</td>\n",
       "      <td>480</td>\n",
       "      <td>NaN</td>\n",
       "      <td>1993</td>\n",
       "      <td>manual</td>\n",
       "      <td>0</td>\n",
       "      <td>golf</td>\n",
       "      <td>150000</td>\n",
       "      <td>0</td>\n",
       "      <td>petrol</td>\n",
       "      <td>volkswagen</td>\n",
       "      <td>NaN</td>\n",
       "      <td>24/03/2016 00:00</td>\n",
       "      <td>0</td>\n",
       "      <td>70435</td>\n",
       "      <td>07/04/2016 03:16</td>\n",
       "    </tr>\n",
       "    <tr>\n",
       "      <th>1</th>\n",
       "      <td>24/03/2016 10:58</td>\n",
       "      <td>18300</td>\n",
       "      <td>coupe</td>\n",
       "      <td>2011</td>\n",
       "      <td>manual</td>\n",
       "      <td>190</td>\n",
       "      <td>NaN</td>\n",
       "      <td>125000</td>\n",
       "      <td>5</td>\n",
       "      <td>gasoline</td>\n",
       "      <td>audi</td>\n",
       "      <td>yes</td>\n",
       "      <td>24/03/2016 00:00</td>\n",
       "      <td>0</td>\n",
       "      <td>66954</td>\n",
       "      <td>07/04/2016 01:46</td>\n",
       "    </tr>\n",
       "    <tr>\n",
       "      <th>2</th>\n",
       "      <td>14/03/2016 12:52</td>\n",
       "      <td>9800</td>\n",
       "      <td>suv</td>\n",
       "      <td>2004</td>\n",
       "      <td>auto</td>\n",
       "      <td>163</td>\n",
       "      <td>grand</td>\n",
       "      <td>125000</td>\n",
       "      <td>8</td>\n",
       "      <td>gasoline</td>\n",
       "      <td>jeep</td>\n",
       "      <td>NaN</td>\n",
       "      <td>14/03/2016 00:00</td>\n",
       "      <td>0</td>\n",
       "      <td>90480</td>\n",
       "      <td>05/04/2016 12:47</td>\n",
       "    </tr>\n",
       "    <tr>\n",
       "      <th>3</th>\n",
       "      <td>17/03/2016 16:54</td>\n",
       "      <td>1500</td>\n",
       "      <td>small</td>\n",
       "      <td>2001</td>\n",
       "      <td>manual</td>\n",
       "      <td>75</td>\n",
       "      <td>golf</td>\n",
       "      <td>150000</td>\n",
       "      <td>6</td>\n",
       "      <td>petrol</td>\n",
       "      <td>volkswagen</td>\n",
       "      <td>no</td>\n",
       "      <td>17/03/2016 00:00</td>\n",
       "      <td>0</td>\n",
       "      <td>91074</td>\n",
       "      <td>17/03/2016 17:40</td>\n",
       "    </tr>\n",
       "    <tr>\n",
       "      <th>4</th>\n",
       "      <td>31/03/2016 17:25</td>\n",
       "      <td>3600</td>\n",
       "      <td>small</td>\n",
       "      <td>2008</td>\n",
       "      <td>manual</td>\n",
       "      <td>69</td>\n",
       "      <td>fabia</td>\n",
       "      <td>90000</td>\n",
       "      <td>7</td>\n",
       "      <td>gasoline</td>\n",
       "      <td>skoda</td>\n",
       "      <td>no</td>\n",
       "      <td>31/03/2016 00:00</td>\n",
       "      <td>0</td>\n",
       "      <td>60437</td>\n",
       "      <td>06/04/2016 10:17</td>\n",
       "    </tr>\n",
       "  </tbody>\n",
       "</table>\n",
       "</div>"
      ],
      "text/plain": [
       "        DateCrawled  Price VehicleType  RegistrationYear Gearbox  Power  \\\n",
       "0  24/03/2016 11:52    480         NaN              1993  manual      0   \n",
       "1  24/03/2016 10:58  18300       coupe              2011  manual    190   \n",
       "2  14/03/2016 12:52   9800         suv              2004    auto    163   \n",
       "3  17/03/2016 16:54   1500       small              2001  manual     75   \n",
       "4  31/03/2016 17:25   3600       small              2008  manual     69   \n",
       "\n",
       "   Model  Mileage  RegistrationMonth  FuelType       Brand NotRepaired  \\\n",
       "0   golf   150000                  0    petrol  volkswagen         NaN   \n",
       "1    NaN   125000                  5  gasoline        audi         yes   \n",
       "2  grand   125000                  8  gasoline        jeep         NaN   \n",
       "3   golf   150000                  6    petrol  volkswagen          no   \n",
       "4  fabia    90000                  7  gasoline       skoda          no   \n",
       "\n",
       "        DateCreated  NumberOfPictures  PostalCode          LastSeen  \n",
       "0  24/03/2016 00:00                 0       70435  07/04/2016 03:16  \n",
       "1  24/03/2016 00:00                 0       66954  07/04/2016 01:46  \n",
       "2  14/03/2016 00:00                 0       90480  05/04/2016 12:47  \n",
       "3  17/03/2016 00:00                 0       91074  17/03/2016 17:40  \n",
       "4  31/03/2016 00:00                 0       60437  06/04/2016 10:17  "
      ]
     },
     "execution_count": 7,
     "metadata": {},
     "output_type": "execute_result"
    }
   ],
   "source": [
    "# viewing and parsing the first lines\n",
    "df.head()"
   ]
  },
  {
   "cell_type": "code",
   "execution_count": 8,
   "metadata": {},
   "outputs": [
    {
     "name": "stdout",
     "output_type": "stream",
     "text": [
      "<class 'pandas.core.frame.DataFrame'>\n",
      "RangeIndex: 354369 entries, 0 to 354368\n",
      "Data columns (total 16 columns):\n",
      " #   Column             Non-Null Count   Dtype \n",
      "---  ------             --------------   ----- \n",
      " 0   DateCrawled        354369 non-null  object\n",
      " 1   Price              354369 non-null  int64 \n",
      " 2   VehicleType        316879 non-null  object\n",
      " 3   RegistrationYear   354369 non-null  int64 \n",
      " 4   Gearbox            334536 non-null  object\n",
      " 5   Power              354369 non-null  int64 \n",
      " 6   Model              334664 non-null  object\n",
      " 7   Mileage            354369 non-null  int64 \n",
      " 8   RegistrationMonth  354369 non-null  int64 \n",
      " 9   FuelType           321474 non-null  object\n",
      " 10  Brand              354369 non-null  object\n",
      " 11  NotRepaired        283215 non-null  object\n",
      " 12  DateCreated        354369 non-null  object\n",
      " 13  NumberOfPictures   354369 non-null  int64 \n",
      " 14  PostalCode         354369 non-null  int64 \n",
      " 15  LastSeen           354369 non-null  object\n",
      "dtypes: int64(7), object(9)\n",
      "memory usage: 43.3+ MB\n"
     ]
    }
   ],
   "source": [
    "# knowing basic information of DataFrame\n",
    "df.info()"
   ]
  },
  {
   "cell_type": "code",
   "execution_count": 9,
   "metadata": {},
   "outputs": [
    {
     "data": {
      "text/plain": [
       "DateCrawled              0\n",
       "Price                    0\n",
       "VehicleType          37490\n",
       "RegistrationYear         0\n",
       "Gearbox              19833\n",
       "Power                    0\n",
       "Model                19705\n",
       "Mileage                  0\n",
       "RegistrationMonth        0\n",
       "FuelType             32895\n",
       "Brand                    0\n",
       "NotRepaired          71154\n",
       "DateCreated              0\n",
       "NumberOfPictures         0\n",
       "PostalCode               0\n",
       "LastSeen                 0\n",
       "dtype: int64"
      ]
     },
     "execution_count": 9,
     "metadata": {},
     "output_type": "execute_result"
    }
   ],
   "source": [
    "# identifying exact amounts of missing values\n",
    "df.isna().sum()"
   ]
  },
  {
   "cell_type": "code",
   "execution_count": 10,
   "metadata": {},
   "outputs": [
    {
     "data": {
      "text/plain": [
       "262"
      ]
     },
     "execution_count": 10,
     "metadata": {},
     "output_type": "execute_result"
    }
   ],
   "source": [
    "# identifying the number of duplicate lines\n",
    "df.duplicated().sum()"
   ]
  },
  {
   "cell_type": "markdown",
   "metadata": {},
   "source": [
    "Our dataset has 354,369 rows and 16 columns, of which 15 correspond to the characteristics and one to the objective of our model, the price of the vehicle.\n",
    "\n",
    "When performing an exploratory analysis of our dataset, we found some issues that need to be corrected for the development of our models:\n",
    "\n",
    "* First of all, we can see that the column names are in uppercase letters, so it will be necessary to change them to lowercase letters, following the rules of good programming style.\n",
    "\n",
    "\n",
    "* Missing values can be seen in five of the columns, these values need to be further analyzed to determine if there is any underlying pattern related to them.\n",
    "\n",
    "\n",
    "* We can see that the column types `DateCrawled`, `DateCreated` and `LastSeen` are found as object types, it's better to turn them into datetime types.\n",
    "\n",
    "\n",
    "* Finally, we found 262 duplicate values that need to be removed."
   ]
  },
  {
   "cell_type": "markdown",
   "metadata": {},
   "source": [
    "### Data visualization"
   ]
  },
  {
   "cell_type": "markdown",
   "metadata": {},
   "source": [
    "Having established the main errors within the data set, let's explore the categorical and numerical characteristics to observe the distribution of our data. We will store the discrete variables in `categorical_data` and the continuous variables in `numeric_data`, later we will bring bar charts for each group of variables or characteristics.\n",
    "\n",
    "We will not consider date characteristics, since they are found as an object type.\n",
    "\n",
    "Next, we will present the categories of each variable and count their unique values, thus, by reducing the number of categories, we will better visualize the results."
   ]
  },
  {
   "cell_type": "code",
   "execution_count": 11,
   "metadata": {},
   "outputs": [
    {
     "name": "stdout",
     "output_type": "stream",
     "text": [
      "VehicleType: 8\n",
      "Gearbox: 2\n",
      "Model: 250\n",
      "FuelType: 7\n",
      "Brand: 40\n",
      "NotRepaired: 2\n"
     ]
    }
   ],
   "source": [
    "# storing the discrete variables in the categorical_data variable\n",
    "categorical_data = df[['VehicleType', 'Gearbox', 'Model', 'FuelType', 'Brand', 'NotRepaired']]\n",
    "\n",
    "# checking the unique values of each column with the nunique method\n",
    "for col in categorical_data:\n",
    "     print(f'{col}: {categorical_data[col].nunique()}')"
   ]
  },
  {
   "cell_type": "code",
   "execution_count": 12,
   "metadata": {},
   "outputs": [
    {
     "data": {
      "image/png": "[encoded data removed]",
      "text/plain": [
       "<Figure size 1440x1080 with 6 Axes>"
      ]
     },
     "metadata": {
      "needs_background": "light"
     },
     "output_type": "display_data"
    }
   ],
   "source": [
    "# defining the number of rows and columns for our subplots\n",
    "a = 3 # number of rows\n",
    "b = 3 # number of columns\n",
    "c = 1 # graph count initialization\n",
    "\n",
    "# defining figure size for subplots\n",
    "fig = plt.subplots(figsize=(20, 15)) \n",
    "\n",
    "# building a for loop that will iterate through each categorical column and create a bar chart\n",
    "for i in categorical_data:\n",
    "    plt.subplot(a, b, c) \n",
    "    plt.title(i)\n",
    "    plt.ylabel('%')\n",
    "    df[i].value_counts(normalize=True).head(40).plot(kind='bar', title=i, rot=90, edgecolor='black', linewidth=0.8)\n",
    "    c = c + 1\n",
    "\n",
    "plt.suptitle('Distribution of Categorical Variables', fontsize='xx-large')\n",
    "plt.tight_layout()\n",
    "plt.show()\n"
   ]
  },
  {
   "cell_type": "markdown",
   "metadata": {},
   "source": [
    "When analyzing the categorical characteristics, we can identify eight types of vehicles, with a higher proportion of sedans (approximately 30%). As for the type of transmission, there are two types: manual and automatic, with manual transmission being predominant (about 80%). Regarding the vehicle model, it is observed that more than 80% of the cars are Golf models, out of the 250 registered models.\n",
    "\n",
    "With regard to the type of fuel, there is a greater proportion of gasoline and diesel vehicles, with around 70% for the first and 30% for the second. It's important to mention that \"Gasoline\" is known as \"Gasoline\" in the UK, so we should group these categories together. Furthermore, the brands with the highest number of online advertisements are Volkswagen (over 20%), followed by Opel (over 10%) and BMW (around 10%). Finally, more than 80% of vehicles have repairs done, while the other 20% have no repair records.\n",
    "\n",
    "It is important to note that features such as \"VehicleType\", \"Gearbox\", \"Model\", \"FuelType\" and \"NotRepaired\" have missing values, which will be analyzed later.\n",
    "\n",
    "Now, let's call the \"describe\" method and create frequency histograms to better understand the distribution of our continuous variables."
   ]
  },
  {
   "cell_type": "code",
   "execution_count": 13,
   "metadata": {},
   "outputs": [
    {
     "data": {
      "text/html": [
       "<div>\n",
       "<style scoped>\n",
       "    .dataframe tbody tr th:only-of-type {\n",
       "        vertical-align: middle;\n",
       "    }\n",
       "\n",
       "    .dataframe tbody tr th {\n",
       "        vertical-align: top;\n",
       "    }\n",
       "\n",
       "    .dataframe thead th {\n",
       "        text-align: right;\n",
       "    }\n",
       "</style>\n",
       "<table border=\"1\" class=\"dataframe\">\n",
       "  <thead>\n",
       "    <tr style=\"text-align: right;\">\n",
       "      <th></th>\n",
       "      <th>Price</th>\n",
       "      <th>RegistrationYear</th>\n",
       "      <th>Power</th>\n",
       "      <th>Mileage</th>\n",
       "      <th>RegistrationMonth</th>\n",
       "      <th>NumberOfPictures</th>\n",
       "      <th>PostalCode</th>\n",
       "    </tr>\n",
       "  </thead>\n",
       "  <tbody>\n",
       "    <tr>\n",
       "      <th>count</th>\n",
       "      <td>354369.000000</td>\n",
       "      <td>354369.000000</td>\n",
       "      <td>354369.000000</td>\n",
       "      <td>354369.000000</td>\n",
       "      <td>354369.000000</td>\n",
       "      <td>354369.0</td>\n",
       "      <td>354369.000000</td>\n",
       "    </tr>\n",
       "    <tr>\n",
       "      <th>mean</th>\n",
       "      <td>4416.656776</td>\n",
       "      <td>2004.234448</td>\n",
       "      <td>110.094337</td>\n",
       "      <td>128211.172535</td>\n",
       "      <td>5.714645</td>\n",
       "      <td>0.0</td>\n",
       "      <td>50508.689087</td>\n",
       "    </tr>\n",
       "    <tr>\n",
       "      <th>std</th>\n",
       "      <td>4514.158514</td>\n",
       "      <td>90.227958</td>\n",
       "      <td>189.850405</td>\n",
       "      <td>37905.341530</td>\n",
       "      <td>3.726421</td>\n",
       "      <td>0.0</td>\n",
       "      <td>25783.096248</td>\n",
       "    </tr>\n",
       "    <tr>\n",
       "      <th>min</th>\n",
       "      <td>0.000000</td>\n",
       "      <td>1000.000000</td>\n",
       "      <td>0.000000</td>\n",
       "      <td>5000.000000</td>\n",
       "      <td>0.000000</td>\n",
       "      <td>0.0</td>\n",
       "      <td>1067.000000</td>\n",
       "    </tr>\n",
       "    <tr>\n",
       "      <th>25%</th>\n",
       "      <td>1050.000000</td>\n",
       "      <td>1999.000000</td>\n",
       "      <td>69.000000</td>\n",
       "      <td>125000.000000</td>\n",
       "      <td>3.000000</td>\n",
       "      <td>0.0</td>\n",
       "      <td>30165.000000</td>\n",
       "    </tr>\n",
       "    <tr>\n",
       "      <th>50%</th>\n",
       "      <td>2700.000000</td>\n",
       "      <td>2003.000000</td>\n",
       "      <td>105.000000</td>\n",
       "      <td>150000.000000</td>\n",
       "      <td>6.000000</td>\n",
       "      <td>0.0</td>\n",
       "      <td>49413.000000</td>\n",
       "    </tr>\n",
       "    <tr>\n",
       "      <th>75%</th>\n",
       "      <td>6400.000000</td>\n",
       "      <td>2008.000000</td>\n",
       "      <td>143.000000</td>\n",
       "      <td>150000.000000</td>\n",
       "      <td>9.000000</td>\n",
       "      <td>0.0</td>\n",
       "      <td>71083.000000</td>\n",
       "    </tr>\n",
       "    <tr>\n",
       "      <th>max</th>\n",
       "      <td>20000.000000</td>\n",
       "      <td>9999.000000</td>\n",
       "      <td>20000.000000</td>\n",
       "      <td>150000.000000</td>\n",
       "      <td>12.000000</td>\n",
       "      <td>0.0</td>\n",
       "      <td>99998.000000</td>\n",
       "    </tr>\n",
       "  </tbody>\n",
       "</table>\n",
       "</div>"
      ],
      "text/plain": [
       "               Price  RegistrationYear          Power        Mileage  \\\n",
       "count  354369.000000     354369.000000  354369.000000  354369.000000   \n",
       "mean     4416.656776       2004.234448     110.094337  128211.172535   \n",
       "std      4514.158514         90.227958     189.850405   37905.341530   \n",
       "min         0.000000       1000.000000       0.000000    5000.000000   \n",
       "25%      1050.000000       1999.000000      69.000000  125000.000000   \n",
       "50%      2700.000000       2003.000000     105.000000  150000.000000   \n",
       "75%      6400.000000       2008.000000     143.000000  150000.000000   \n",
       "max     20000.000000       9999.000000   20000.000000  150000.000000   \n",
       "\n",
       "       RegistrationMonth  NumberOfPictures     PostalCode  \n",
       "count      354369.000000          354369.0  354369.000000  \n",
       "mean            5.714645               0.0   50508.689087  \n",
       "std             3.726421               0.0   25783.096248  \n",
       "min             0.000000               0.0    1067.000000  \n",
       "25%             3.000000               0.0   30165.000000  \n",
       "50%             6.000000               0.0   49413.000000  \n",
       "75%             9.000000               0.0   71083.000000  \n",
       "max            12.000000               0.0   99998.000000  "
      ]
     },
     "execution_count": 13,
     "metadata": {},
     "output_type": "execute_result"
    }
   ],
   "source": [
    "# describing statistical data of numeric variables\n",
    "df.describe()"
   ]
  },
  {
   "cell_type": "markdown",
   "metadata": {},
   "source": [
    "* **Regarding price**, we can observe an average of 4416 dollars and a median of 2700 dollars, indicating a positive asymmetry of the data. This is corroborated by analyzing the histogram, which demonstrates a strong positive asymmetry in price values. This suggests a high proportion of zero or close to zero values, which is also related to the high standard deviation. These values may be associated with users not entering the price of the vehicle, in order for buyers to contact the seller directly. It will be necessary to correctly process these zero values before building our predictive model.\n",
    "\n",
    "\n",
    "* **Regarding the vehicle registration year**, the average is 2004 and the median is 2003, which indicates that there are more vehicles registered in those years. However, there are inconsistent values, with a minimum of 1000 and a maximum of 9999. Considering that the first vehicle was created in 1886, it will be necessary to filter out these extreme values and work only with vehicles up to 130 years old.\n",
    "\n",
    "\n",
    "* **Power (in horsepower)** is around 110 hp, with a median of 105 hp, indicating a positive asymmetry. Also evident is the presence of inconsistent values that reach 20000 hp, while the most powerful car registered reaches 1825 hp (Bugatti Bolide). You will need to analyze these values and decide what to do with them.\n",
    "\n",
    "\n",
    "* **Average mileage** is 128211, with a median of 150000, indicating negative data skewness. This is evident when analyzing the histogram, with a greater number of vehicles over 140,000 km. In addition, inconsistent values of zero are observed in the vehicle's registration month, which is related to the fact that the user did not provide this information.\n",
    "\n",
    "\n",
    "* Finally, no extraneous values were recorded in **postcodes**, but it will be necessary to consider whether these characteristics will help in the construction of our model."
   ]
  },
  {
   "cell_type": "code",
   "execution_count": 14,
   "metadata": {},
   "outputs": [
    {
     "data": {
      "image/png": "[encoded data removed]",
      "text/plain": [
       "<Figure size 864x432 with 2 Axes>"
      ]
     },
     "metadata": {
      "needs_background": "light"
     },
     "output_type": "display_data"
    }
   ],
   "source": [
    "# dropping the NumberOfPictures column with the drop function\n",
    "df = df.drop(['NumberOfPictures'], axis=1)\n",
    "\n",
    "# plotting a correlation heatmap plot\n",
    "plt.figure(figsize=(12, 6))\n",
    "sns.heatmap(df.corr(), annot=True, cmap=\"RdBu_r\", center=0)\n",
    "plt.show()\n"
   ]
  },
  {
   "cell_type": "markdown",
   "metadata": {},
   "source": [
    "* We observed a **moderate negative correlation between mileage and vehicle price**, that is, the higher the vehicle price, the lower the mileage.\n",
    "\n",
    "\n",
    "* It is also possible to notice a **slight positive correlation between price and power**, indicating that more expensive vehicles tend to have more power.\n",
    "\n",
    "\n",
    "* There is no strong linear correlation between the other numerical characteristics, as they all have a Pearson correlation close to zero. This suggests that **if there is a relationship between them, it is not linear**."
   ]
  },
  {
   "cell_type": "markdown",
   "metadata": {},
   "source": [
    "### Conclusions\n"
   ]
  },
  {
   "cell_type": "markdown",
   "metadata": {},
   "source": [
    "* **Column names** are in uppercase, so they must be corrected to follow good programming practice rules.\n",
    "\n",
    "\n",
    "* The **data type** of the `DateCrawled`, `DateCreated` and `LastSeen` columns is \"object\", and it would be correct to convert them to the \"datetime\" data type.\n",
    "\n",
    "\n",
    "* There are **missing values** in five columns: `VehicleType`, `Gearbox`, `Model`, `FuelType` and `NotRepaired`. These missing values need to be analyzed to determine if there is a pattern that allows you to impute them later.\n",
    "\n",
    "\n",
    "* It is necessary to **merge the categories \"petrol\" and \"gasoline\"** into a single category, as both refer to gasoline.\n",
    "\n",
    "\n",
    "* The `NumberOfPictures` column contains **only zero values**, so we decided to remove it from the dataset.\n",
    "\n",
    "\n",
    "* The `Price`, `RegistrationYear` and `Power` features **presented anomalies** that need to be analyzed and treated correctly before building our model. These inconsistencies are:\n",
    "\n",
    "     - Price values equal to zero.\n",
    "     - Registration years from 1000 to 9999.\n",
    "     - Power in horsepower from 0 and 20000.\n",
    "     - Vehicle registration month equal to zero.\n",
    "     - Some features, such as dates or postal codes, may not be useful for building our model, so it will be necessary to decide whether to keep them or not."
   ]
  },
  {
   "cell_type": "markdown",
   "metadata": {},
   "source": [
    "## Data Preparation\n"
   ]
  },
  {
   "cell_type": "markdown",
   "metadata": {},
   "source": [
    "### Duplicate Values\n",
    "\n",
    "During the exploration of the data we noticed some duplicate data, we will choose to remove them:"
   ]
  },
  {
   "cell_type": "code",
   "execution_count": 15,
   "metadata": {},
   "outputs": [
    {
     "name": "stdout",
     "output_type": "stream",
     "text": [
      "Number of duplicate values before removal: 262\n",
      "Number of duplicate values after removal: 0\n"
     ]
    }
   ],
   "source": [
    "print(f'Number of duplicate values before removal: {df.duplicated().sum()}')\n",
    "\n",
    "# removendo duplicatas\n",
    "df = df.drop_duplicates().reset_index(drop=True)\n",
    "\n",
    "print(f'Number of duplicate values after removal: {df.duplicated().sum()}')"
   ]
  },
  {
   "cell_type": "markdown",
   "metadata": {},
   "source": [
    "### Fix Column Names\n",
    "\n",
    "Let's correct the column names that are in capital letters. We will lowercase them and separate words with a \"_\" for convention and style. For this, we will use regular expressions and the functions: `str.replace`, `str.strip` and `str.lower`."
   ]
  },
  {
   "cell_type": "code",
   "execution_count": 16,
   "metadata": {},
   "outputs": [
    {
     "name": "stdout",
     "output_type": "stream",
     "text": [
      "Column names before change:\n",
      "Index(['DateCrawled', 'Price', 'VehicleType', 'RegistrationYear', 'Gearbox',\n",
      "       'Power', 'Model', 'Mileage', 'RegistrationMonth', 'FuelType', 'Brand',\n",
      "       'NotRepaired', 'DateCreated', 'PostalCode', 'LastSeen'],\n",
      "      dtype='object')\n",
      "\n",
      "Column names after change:\n",
      "Index(['date_crawled', 'price', 'vehicle_type', 'registration_year', 'gearbox',\n",
      "       'power', 'model', 'mileage', 'registration_month', 'fuel_type', 'brand',\n",
      "       'not_repaired', 'date_created', 'postal_code', 'last_seen'],\n",
      "      dtype='object')\n"
     ]
    }
   ],
   "source": [
    "print(\"Column names before change:\")\n",
    "print(df.columns)\n",
    "\n",
    "# converting the names to lowercase and adding an underscore as a word separator.\n",
    "df.columns = df.columns.str.replace(r'([A-Z])', r'_\\1', regex=True).str.strip('_').str.lower()\n",
    "\n",
    "print(\"\\nColumn names after change:\")\n",
    "print(df.columns)"
   ]
  },
  {
   "cell_type": "markdown",
   "metadata": {},
   "source": [
    "### Fix Data Type\n",
    "\n",
    "Columns `date_crawled`, `date_created` and `last_seen` are presented as *objetc*, so it is necessary to convert them to *datetime* type, as they will be useful to extract important information, such as year of publication, from from which we will later calculate the year of the vehicle."
   ]
  },
  {
   "cell_type": "code",
   "execution_count": 17,
   "metadata": {},
   "outputs": [
    {
     "name": "stdout",
     "output_type": "stream",
     "text": [
      "\n",
      "Data types before change:\n",
      "date_crawled    object\n",
      "date_created    object\n",
      "last_seen       object\n",
      "dtype: object\n",
      "\n",
      "\n",
      "Data types after change:\n",
      "date_crawled    datetime64[ns]\n",
      "date_created    datetime64[ns]\n",
      "last_seen       datetime64[ns]\n",
      "dtype: object\n"
     ]
    }
   ],
   "source": [
    "# storing the date columns in the variable date_columns\n",
    "date_columns = df[['date_crawled', 'date_created', 'last_seen']]\n",
    "\n",
    "# showing data types before conversion\n",
    "print(\"\\nData types before change:\")\n",
    "print(df[date_columns.columns].dtypes)\n",
    "\n",
    "# building a for loop to iterate through the columns and convert them to datetime\n",
    "for col in date_columns:\n",
    "    df[col] = pd.to_datetime(df[col], format='%d/%m/%Y %H:%M')\n",
    "\n",
    "# showing data types after conversion\n",
    "print()\n",
    "print(\"\\nData types after change:\")\n",
    "print(df[date_columns.columns].dtypes)"
   ]
  },
  {
   "cell_type": "markdown",
   "metadata": {},
   "source": [
    "### Missing Values\n",
    "\n",
    "We previously noted five columns with missing values, let's calculate the percentage that each column's data represents relative to our full Dataframe."
   ]
  },
  {
   "cell_type": "code",
   "execution_count": 18,
   "metadata": {},
   "outputs": [
    {
     "data": {
      "text/html": [
       "<div>\n",
       "<style scoped>\n",
       "    .dataframe tbody tr th:only-of-type {\n",
       "        vertical-align: middle;\n",
       "    }\n",
       "\n",
       "    .dataframe tbody tr th {\n",
       "        vertical-align: top;\n",
       "    }\n",
       "\n",
       "    .dataframe thead th {\n",
       "        text-align: right;\n",
       "    }\n",
       "</style>\n",
       "<table border=\"1\" class=\"dataframe\">\n",
       "  <thead>\n",
       "    <tr style=\"text-align: right;\">\n",
       "      <th></th>\n",
       "      <th>Missing Values</th>\n",
       "      <th>% NaN</th>\n",
       "    </tr>\n",
       "  </thead>\n",
       "  <tbody>\n",
       "    <tr>\n",
       "      <th>vehicle_type</th>\n",
       "      <td>37484</td>\n",
       "      <td>10.585501</td>\n",
       "    </tr>\n",
       "    <tr>\n",
       "      <th>gearbox</th>\n",
       "      <td>19830</td>\n",
       "      <td>5.600002</td>\n",
       "    </tr>\n",
       "    <tr>\n",
       "      <th>model</th>\n",
       "      <td>19701</td>\n",
       "      <td>5.563573</td>\n",
       "    </tr>\n",
       "    <tr>\n",
       "      <th>fuel_type</th>\n",
       "      <td>32889</td>\n",
       "      <td>9.287871</td>\n",
       "    </tr>\n",
       "    <tr>\n",
       "      <th>not_repaired</th>\n",
       "      <td>71145</td>\n",
       "      <td>20.091385</td>\n",
       "    </tr>\n",
       "  </tbody>\n",
       "</table>\n",
       "</div>"
      ],
      "text/plain": [
       "              Missing Values      % NaN\n",
       "vehicle_type           37484  10.585501\n",
       "gearbox                19830   5.600002\n",
       "model                  19701   5.563573\n",
       "fuel_type              32889   9.287871\n",
       "not_repaired           71145  20.091385"
      ]
     },
     "execution_count": 18,
     "metadata": {},
     "output_type": "execute_result"
    }
   ],
   "source": [
    "nan_count = df.isna().sum()\n",
    "nan_percent = 100 * df.isna().sum() / len(df)\n",
    "       \n",
    "nan_table = pd.concat([nan_count, nan_percent], axis=1)\n",
    "nan_table.columns = ['Missing Values', '% NaN']\n",
    "\n",
    "nan_table[nan_table.iloc[:,1] != 0]"
   ]
  },
  {
   "cell_type": "markdown",
   "metadata": {},
   "source": [
    "#### Missing Values in \"gearbox\"\n",
    "\n",
    "The gearbox type is related to the car model and its brand, so we will fill in the missing values based on the fashion of these two characteristics. It's important to note that the `model` column has missing values, so you'll need to work with a filtered dataset that doesn't have missing values in `gearbox` and `model`. Let's create a function called `fill_gearbox` that will fill in the missing values with the fashion, and if not, it will return the word `Error`."
   ]
  },
  {
   "cell_type": "code",
   "execution_count": 19,
   "metadata": {},
   "outputs": [
    {
     "data": {
      "text/plain": [
       "manual    0.756929\n",
       "auto      0.187071\n",
       "NaN       0.056000\n",
       "Name: gearbox, dtype: float64"
      ]
     },
     "execution_count": 19,
     "metadata": {},
     "output_type": "execute_result"
    }
   ],
   "source": [
    "# analyzing the data distribution in 'gearbox'\n",
    "df['gearbox'].value_counts(dropna=False, normalize=True)"
   ]
  },
  {
   "cell_type": "code",
   "execution_count": 20,
   "metadata": {},
   "outputs": [
    {
     "data": {
      "text/plain": [
       "'manual'"
      ]
     },
     "execution_count": 20,
     "metadata": {},
     "output_type": "execute_result"
    }
   ],
   "source": [
    "# filtering the dataset with no missing values in 'caixa_de_cambio' and 'model'\n",
    "# and creating a pivot table that returns the mode\n",
    "gearbox_without_nan = df.dropna(subset=['gearbox', 'model'])\n",
    "gearbox_model = gearbox_without_nan.pivot_table(index=['brand','model'], values='gearbox', aggfunc=mode)\n",
    "\n",
    "# creating the fill_gearbox function\n",
    "def fill_gearbox(row):\n",
    "    '''\n",
    "    Returns the mode of the gearbox depending on the model and make of the car, if it is not possible it will throw 'Error'\n",
    "    \n",
    "    :param row: row with the information that needs to be filled in\n",
    "    '''\n",
    "    model = row['model']\n",
    "    gearbox = row['gearbox']\n",
    "    brand = row['brand']\n",
    "\n",
    "    if pd.isna(gearbox):\n",
    "        try:\n",
    "            return gearbox_model.loc[(brand, model), 'gearbox']\n",
    "        except:\n",
    "            return 'Error'\n",
    "    return gearbox\n",
    "\n",
    "# checking if the function is working correctly\n",
    "row_values = ['alfa_romeo', '145', np.nan]\n",
    "row_columns = ['brand', 'model', 'gearbox']\n",
    "row = pd.Series(data=row_values, index=row_columns)\n",
    "fill_gearbox(row)"
   ]
  },
  {
   "cell_type": "code",
   "execution_count": 21,
   "metadata": {},
   "outputs": [
    {
     "name": "stdout",
     "output_type": "stream",
     "text": [
      "Errors applying the fill_model function: 4130\n"
     ]
    }
   ],
   "source": [
    "# applying the function to our Dataframe\n",
    "df['gearbox'] = df.apply(fill_gearbox, axis = 1)\n",
    "\n",
    "# confirming if there are unfilled values\n",
    "errors = df[df['gearbox'] == 'Error']\n",
    "print(f'Errors applying the fill_model function: {len(errors)}')"
   ]
  },
  {
   "cell_type": "markdown",
   "metadata": {},
   "source": [
    "Our function failed to fill 4130 values, these remaining values will be filled based on the mode of the entire column.\n",
    "\n",
    "Let's replace it with fashion because there are only two options, manual and automatic, and the manual is presented in a larger proportion. So they will not affect the distribution of our data.\n",
    "\n",
    "We'll use the `replace` function to change the `Error` to the fashion and verify that the changes were made correctly."
   ]
  },
  {
   "cell_type": "code",
   "execution_count": 22,
   "metadata": {},
   "outputs": [
    {
     "name": "stdout",
     "output_type": "stream",
     "text": [
      "Number of errors in model: 0\n",
      "Percentage of unique in gearbox:\n",
      "manual    0.807423\n",
      "auto      0.192577\n",
      "Name: gearbox, dtype: float64\n"
     ]
    }
   ],
   "source": [
    "# replacing the wrong values with the mode\n",
    "df['gearbox'] = df['gearbox'].replace('Error', mode(df['gearbox']))\n",
    "\n",
    "# confirming the changes made\n",
    "print('Number of errors in model:', len(df[df['model'] == 'Error']))\n",
    "print('Percentage of unique in gearbox:')\n",
    "print(df['gearbox'].value_counts(dropna=False, normalize=True))"
   ]
  },
  {
   "cell_type": "code",
   "execution_count": 23,
   "metadata": {},
   "outputs": [
    {
     "data": {
      "text/html": [
       "<div>\n",
       "<style scoped>\n",
       "    .dataframe tbody tr th:only-of-type {\n",
       "        vertical-align: middle;\n",
       "    }\n",
       "\n",
       "    .dataframe tbody tr th {\n",
       "        vertical-align: top;\n",
       "    }\n",
       "\n",
       "    .dataframe thead th {\n",
       "        text-align: right;\n",
       "    }\n",
       "</style>\n",
       "<table border=\"1\" class=\"dataframe\">\n",
       "  <thead>\n",
       "    <tr style=\"text-align: right;\">\n",
       "      <th></th>\n",
       "      <th>Missing values</th>\n",
       "      <th>% NaN</th>\n",
       "    </tr>\n",
       "  </thead>\n",
       "  <tbody>\n",
       "    <tr>\n",
       "      <th>vehicle_type</th>\n",
       "      <td>37484</td>\n",
       "      <td>10.585501</td>\n",
       "    </tr>\n",
       "    <tr>\n",
       "      <th>model</th>\n",
       "      <td>19701</td>\n",
       "      <td>5.563573</td>\n",
       "    </tr>\n",
       "    <tr>\n",
       "      <th>fuel_type</th>\n",
       "      <td>32889</td>\n",
       "      <td>9.287871</td>\n",
       "    </tr>\n",
       "    <tr>\n",
       "      <th>not_repaired</th>\n",
       "      <td>71145</td>\n",
       "      <td>20.091385</td>\n",
       "    </tr>\n",
       "  </tbody>\n",
       "</table>\n",
       "</div>"
      ],
      "text/plain": [
       "              Missing values      % NaN\n",
       "vehicle_type           37484  10.585501\n",
       "model                  19701   5.563573\n",
       "fuel_type              32889   9.287871\n",
       "not_repaired           71145  20.091385"
      ]
     },
     "execution_count": 23,
     "metadata": {},
     "output_type": "execute_result"
    }
   ],
   "source": [
    "nan_count = df.isna().sum()\n",
    "nan_percent = 100 * df.isna().sum() / len(df)\n",
    "       \n",
    "nan_table = pd.concat([nan_count, nan_percent], axis=1)\n",
    "nan_table.columns = ['Missing values', '% NaN']\n",
    "\n",
    "nan_table[nan_table.iloc[:,1] != 0]"
   ]
  },
  {
   "cell_type": "markdown",
   "metadata": {},
   "source": [
    "`gearbox` no longer appears in our list of fields with missing values. Great news! Let's go!"
   ]
  },
  {
   "cell_type": "markdown",
   "metadata": {},
   "source": [
    "#### Missing Values in \"vehicle_type\"\n",
    "\n",
    "The vehicle body type depends on the vehicle make and model, so again we will use these variables to fill in the missing values."
   ]
  },
  {
   "cell_type": "code",
   "execution_count": 24,
   "metadata": {},
   "outputs": [
    {
     "data": {
      "text/plain": [
       "sedan          0.258111\n",
       "small          0.225223\n",
       "wagon          0.183885\n",
       "NaN            0.105855\n",
       "bus            0.081196\n",
       "convertible    0.056988\n",
       "coupe          0.045599\n",
       "suv            0.033863\n",
       "other          0.009280\n",
       "Name: vehicle_type, dtype: float64"
      ]
     },
     "execution_count": 24,
     "metadata": {},
     "output_type": "execute_result"
    }
   ],
   "source": [
    "# analyzing the distribution of our data before dealing with missing values\n",
    "df['vehicle_type'].value_counts(dropna=False, normalize=True)"
   ]
  },
  {
   "cell_type": "code",
   "execution_count": 25,
   "metadata": {},
   "outputs": [
    {
     "data": {
      "text/plain": [
       "'small'"
      ]
     },
     "execution_count": 25,
     "metadata": {},
     "output_type": "execute_result"
    }
   ],
   "source": [
    "# filtering the missing values in columns 'model' and 'vehicle_type' and building a pivot table\n",
    "vehicletype_without_nan = df.dropna(subset=['vehicle_type', 'model'])\n",
    "vehicletype_model = vehicletype_without_nan.pivot_table(index=['brand','model'], values='vehicle_type', aggfunc=mode)\n",
    "\n",
    "# # creating the function fill_vehicle_type\n",
    "def fill_vehicle_type(row):\n",
    "    '''\n",
    "    Returns the mode based on the model and brand of the car, if not possible, returns 'Error'\n",
    "    \n",
    "    :param row: row with the information that needs to be filled in\n",
    "    '''\n",
    "    brand = row['brand']\n",
    "    model = row['model']\n",
    "    vehicle_type = row['vehicle_type']\n",
    "    \n",
    "    if pd.isna(vehicle_type):\n",
    "        try:\n",
    "            return vehicletype_model.loc[(brand, model), 'vehicle_type']\n",
    "        except:\n",
    "            return 'Error'\n",
    "    return vehicle_type\n",
    "\n",
    "# confirming that the function worked correctly\n",
    "row_values = ['alfa_romeo', '145', np.nan]\n",
    "row_columns = ['brand', 'model', 'vehicle_type']\n",
    "row = pd.Series(data=row_values, index=row_columns)\n",
    "fill_vehicle_type(row)"
   ]
  },
  {
   "cell_type": "code",
   "execution_count": 26,
   "metadata": {},
   "outputs": [],
   "source": [
    "# applying the function to our dataset\n",
    "df['vehicle_type'] = df.apply(fill_vehicle_type, axis = 1)"
   ]
  },
  {
   "cell_type": "code",
   "execution_count": 27,
   "metadata": {},
   "outputs": [
    {
     "name": "stdout",
     "output_type": "stream",
     "text": [
      "Errors applying the fill_vehicle_type function: 6827\n"
     ]
    }
   ],
   "source": [
    "# checking if there are values that were not filled in\n",
    "errors = df[df['vehicle_type'] == 'Error']\n",
    "print(f'Errors applying the fill_vehicle_type function: {len(errors)}')"
   ]
  },
  {
   "cell_type": "markdown",
   "metadata": {},
   "source": [
    "6827 values could not be filled in, so we will replace them with the word `unknown`, as we cannot get this value based on another variable. If we were to use column mode, it would affect how the data is distributed."
   ]
  },
  {
   "cell_type": "code",
   "execution_count": 28,
   "metadata": {},
   "outputs": [
    {
     "name": "stdout",
     "output_type": "stream",
     "text": [
      "Number of errors in vehicle_type: 0\n",
      "Unique values in vehicle_type:\n",
      "sedan          0.293838\n",
      "small          0.250964\n",
      "wagon          0.193882\n",
      "bus            0.091811\n",
      "convertible    0.057757\n",
      "coupe          0.047367\n",
      "suv            0.035755\n",
      "unknown        0.019279\n",
      "other          0.009347\n",
      "Name: vehicle_type, dtype: float64\n"
     ]
    }
   ],
   "source": [
    "# replacing 'Error' values with 'unknown'\n",
    "df['vehicle_type'] = df['vehicle_type'].replace('Error', 'unknown')\n",
    "\n",
    "# confirming the changes made\n",
    "print('Number of errors in vehicle_type:', len(df[df['vehicle_type'] == 'Error']))\n",
    "print('Unique values in vehicle_type:')\n",
    "print(df['vehicle_type'].value_counts(dropna=False, normalize=True))"
   ]
  },
  {
   "cell_type": "markdown",
   "metadata": {},
   "source": [
    "We managed to drop more than 8%, as NaN values in the `vehicle_type` column represented 10.5% and now, like *unknown*, represent less than 2% of the data."
   ]
  },
  {
   "cell_type": "markdown",
   "metadata": {},
   "source": [
    "#### Missing Values in \"fuel_type\"\n",
    "\n",
    "First of all, it was mentioned earlier that the fuel types \"petrol\" and \"gasoline\" have the same meaning, the only difference being the places where they are used. \"Petrol\" is used in the United Kingdom and India, while \"gasoline\" is used in the United States. Taking this into account, it is best to group them into a single category, as they are not different fuels, but different terms for the same fuel."
   ]
  },
  {
   "cell_type": "code",
   "execution_count": 29,
   "metadata": {},
   "outputs": [
    {
     "data": {
      "text/plain": [
       "gasoline    0.889050\n",
       "NaN         0.092879\n",
       "lpg         0.014987\n",
       "cng         0.001596\n",
       "hybrid      0.000658\n",
       "other       0.000576\n",
       "electric    0.000254\n",
       "Name: fuel_type, dtype: float64"
      ]
     },
     "execution_count": 29,
     "metadata": {},
     "output_type": "execute_result"
    }
   ],
   "source": [
    "# replacing 'petrol' with 'gasoline'\n",
    "df['fuel_type'] = df['fuel_type'].replace('petrol', 'gasoline')\n",
    "\n",
    "# checking the new data distribution\n",
    "df['fuel_type'].value_counts(dropna=False, normalize=True)"
   ]
  },
  {
   "cell_type": "markdown",
   "metadata": {},
   "source": [
    "Now we will replace the missing values in `fuel_type` using a function based on the vehicle model."
   ]
  },
  {
   "cell_type": "code",
   "execution_count": 30,
   "metadata": {},
   "outputs": [
    {
     "data": {
      "text/plain": [
       "'gasoline'"
      ]
     },
     "execution_count": 30,
     "metadata": {},
     "output_type": "execute_result"
    }
   ],
   "source": [
    "# filtering the missing values of column 'model' and building a pivot table\n",
    "fuel_without_nan = df.dropna(subset=['fuel_type', 'model'])\n",
    "fuel_model = fuel_without_nan.pivot_table(index=['model'], values='fuel_type', aggfunc=mode)\n",
    "\n",
    "# creating the fill_vehicle_type function\n",
    "def fill_fuel_type(row):\n",
    "    '''\n",
    "    Returns the mode depending on the car model, if not possible, returns 'Error'\n",
    "    \n",
    "    :param row: row with the information that needs to be changed\n",
    "    '''\n",
    "    model = row['model']\n",
    "    fuel_type = row['fuel_type']\n",
    "    \n",
    "    if pd.isna(fuel_type):\n",
    "        try:\n",
    "            return fuel_model.loc[model, 'fuel_type']\n",
    "        except:\n",
    "            return 'Error'\n",
    "    return fuel_type\n",
    "\n",
    "# confirming that the function worked correctly\n",
    "row_values = ['100', np.nan]\n",
    "row_columns = ['model', 'fuel_type']\n",
    "row = pd.Series(data=row_values, index=row_columns)\n",
    "fill_fuel_type(row)"
   ]
  },
  {
   "cell_type": "code",
   "execution_count": 31,
   "metadata": {},
   "outputs": [
    {
     "name": "stdout",
     "output_type": "stream",
     "text": [
      "Errors applying the fill_fuel_type function: 7161\n"
     ]
    }
   ],
   "source": [
    "# applying the function to our Dataframe\n",
    "df['fuel_type'] = df.apply(fill_fuel_type, axis = 1)\n",
    "\n",
    "# confirming if there are unfilled values\n",
    "errors = df[df['fuel_type'] == 'Error']\n",
    "print(f'Errors applying the fill_fuel_type function: {len(errors)}')"
   ]
  },
  {
   "cell_type": "markdown",
   "metadata": {},
   "source": [
    "The 7161 values that were not filled in by the function will be replaced by `unknown`."
   ]
  },
  {
   "cell_type": "code",
   "execution_count": 32,
   "metadata": {},
   "outputs": [
    {
     "name": "stdout",
     "output_type": "stream",
     "text": [
      "Number of errors in fuel_type: 0\n",
      "Unique values in fuel_type:\n",
      "gasoline    0.961706\n",
      "unknown     0.020223\n",
      "lpg         0.014987\n",
      "cng         0.001596\n",
      "hybrid      0.000658\n",
      "other       0.000576\n",
      "electric    0.000254\n",
      "Name: fuel_type, dtype: float64\n"
     ]
    }
   ],
   "source": [
    "# replacing the errors with 'unknown'\n",
    "df['fuel_type'] = df['fuel_type'].replace('Error', 'unknown')\n",
    "\n",
    "# confirming the changes made\n",
    "print('Number of errors in fuel_type:', len(df[df['fuel_type'] == 'Error']))\n",
    "print('Unique values in fuel_type:')\n",
    "print(df['fuel_type'].value_counts(dropna=False, normalize=True))"
   ]
  },
  {
   "cell_type": "markdown",
   "metadata": {},
   "source": [
    "We got an 8% rise in gasoline-powered cars, while we have no more NaN values and the `unknown` field values represent about 2% of the data."
   ]
  },
  {
   "cell_type": "markdown",
   "metadata": {},
   "source": [
    "#### Missing Values in \"model\""
   ]
  },
  {
   "cell_type": "markdown",
   "metadata": {},
   "source": [
    "Let's start by filling in the missing `model` values, in this case we'll use `brand` and `registration_year` as reference variables, as the car model is directly related to the brand and certain models were released in specific years.\n",
    "\n",
    "Let's create a `fill_model` function that helps us fill in values based on modality by brand and year of registration."
   ]
  },
  {
   "cell_type": "code",
   "execution_count": 33,
   "metadata": {},
   "outputs": [
    {
     "data": {
      "text/plain": [
       "'v60'"
      ]
     },
     "execution_count": 33,
     "metadata": {},
     "output_type": "execute_result"
    }
   ],
   "source": [
    "# filtering Dataframe with no missing values in 'model'\n",
    "# and creating a dynamic table that returns the mode\n",
    "model_without_nan = df.dropna(subset=['model'])\n",
    "model_brand = model_without_nan.pivot_table(index=['brand', 'registration_year'], values='model', aggfunc=mode)\n",
    "\n",
    "# creating the fill_model function\n",
    "def fill_model(row):\n",
    "    '''\n",
    "    Returns the mode according to the make and year of registration of the car, if not possible, returns 'Error'\n",
    "    \n",
    "    :param row: row with the information that needs to be filled in\n",
    "    '''\n",
    "    model = row['model']\n",
    "    registration_year = row['registration_year']\n",
    "    brand = row['brand']\n",
    "    \n",
    "    if pd.isna(model):\n",
    "        try:\n",
    "            return model_brand.loc[(brand, registration_year), 'model']\n",
    "        except:\n",
    "            return 'Error'\n",
    "    return model\n",
    "\n",
    "# confirming that the function works\n",
    "row_values = ['volvo', 2013, np.nan]\n",
    "row_columns = ['brand', 'registration_year', 'model']\n",
    "row = pd.Series(data=row_values, index=row_columns)\n",
    "fill_model(row)"
   ]
  },
  {
   "cell_type": "code",
   "execution_count": 34,
   "metadata": {},
   "outputs": [],
   "source": [
    "# applying the function to our Dataframe\n",
    "df['model'] = df.apply(fill_model, axis = 1)"
   ]
  },
  {
   "cell_type": "code",
   "execution_count": 35,
   "metadata": {},
   "outputs": [
    {
     "name": "stdout",
     "output_type": "stream",
     "text": [
      "Errors applying the fill_model function: 3441\n"
     ]
    }
   ],
   "source": [
    "# confirming if there are unfilled values\n",
    "errors = df[df['model'] == 'Error']\n",
    "print(f'Errors applying the fill_model function: {len(errors)}')"
   ]
  },
  {
   "cell_type": "markdown",
   "metadata": {},
   "source": [
    "When applying the `fill_model` function we obtained 3441 `Error` values, these would be models that could not be filled from their make and year of registration. Since we do not have another reference, we will replace these with the word `unknown`, as we do not know the model of these vehicles."
   ]
  },
  {
   "cell_type": "code",
   "execution_count": 36,
   "metadata": {},
   "outputs": [
    {
     "name": "stdout",
     "output_type": "stream",
     "text": [
      "Error number in model: 0\n"
     ]
    }
   ],
   "source": [
    "# replacing 'error' with 'unknown'\n",
    "df['model'] = df['model'].replace('Error', 'unknown')\n",
    "\n",
    "print('Error number in model:', len(df[df['model'] == 'Error']))"
   ]
  },
  {
   "cell_type": "markdown",
   "metadata": {},
   "source": [
    "This time our function was quite successful!"
   ]
  },
  {
   "cell_type": "markdown",
   "metadata": {},
   "source": [
    "#### Missing Values in \"not_repaired\""
   ]
  },
  {
   "cell_type": "markdown",
   "metadata": {},
   "source": [
    "Whether or not a car is repaired depends on each seller, so the missing values in this column are not something that can be easily filled in based on another variable.\n",
    "\n",
    "We could populate these values with a new category, but this time we'll create a machine learning model that predicts a vehicle's health based on all the characteristics in the dataset.\n",
    "\n",
    "We will start by transforming this categorical feature into a numeric feature, for this we will create a dictionary and then use the map function to replace no = 0 and yes = 1."
   ]
  },
  {
   "cell_type": "code",
   "execution_count": 37,
   "metadata": {},
   "outputs": [
    {
     "data": {
      "text/plain": [
       "0.0    0.697323\n",
       "NaN    0.200914\n",
       "1.0    0.101763\n",
       "Name: not_repaired, dtype: float64"
      ]
     },
     "execution_count": 37,
     "metadata": {},
     "output_type": "execute_result"
    }
   ],
   "source": [
    "# creating a dictionary that stores the numeric equivalences of 'yes' and 'no'\n",
    "not_repaired_dict = {'no': 0, 'yes': 1}\n",
    "\n",
    "# using the map function for the not_repaired column\n",
    "df['not_repaired'] = df['not_repaired'].map(not_repaired_dict)\n",
    "\n",
    "# confirming the exchanges\n",
    "df['not_repaired'].value_counts(dropna=False, normalize=True)"
   ]
  },
  {
   "cell_type": "markdown",
   "metadata": {},
   "source": [
    "20% of the data is missing. Let's now build a Logistic Regression model that predicts whether or not a vehicle was repaired, and fill in our missing values based on the predictions. We start by coding the categorical features using One-Hot coding."
   ]
  },
  {
   "cell_type": "code",
   "execution_count": 38,
   "metadata": {},
   "outputs": [
    {
     "data": {
      "text/html": [
       "<div>\n",
       "<style scoped>\n",
       "    .dataframe tbody tr th:only-of-type {\n",
       "        vertical-align: middle;\n",
       "    }\n",
       "\n",
       "    .dataframe tbody tr th {\n",
       "        vertical-align: top;\n",
       "    }\n",
       "\n",
       "    .dataframe thead th {\n",
       "        text-align: right;\n",
       "    }\n",
       "</style>\n",
       "<table border=\"1\" class=\"dataframe\">\n",
       "  <thead>\n",
       "    <tr style=\"text-align: right;\">\n",
       "      <th></th>\n",
       "      <th>date_crawled</th>\n",
       "      <th>price</th>\n",
       "      <th>registration_year</th>\n",
       "      <th>power</th>\n",
       "      <th>mileage</th>\n",
       "      <th>registration_month</th>\n",
       "      <th>not_repaired</th>\n",
       "      <th>date_created</th>\n",
       "      <th>postal_code</th>\n",
       "      <th>last_seen</th>\n",
       "      <th>...</th>\n",
       "      <th>brand_seat</th>\n",
       "      <th>brand_skoda</th>\n",
       "      <th>brand_smart</th>\n",
       "      <th>brand_sonstige_autos</th>\n",
       "      <th>brand_subaru</th>\n",
       "      <th>brand_suzuki</th>\n",
       "      <th>brand_toyota</th>\n",
       "      <th>brand_trabant</th>\n",
       "      <th>brand_volkswagen</th>\n",
       "      <th>brand_volvo</th>\n",
       "    </tr>\n",
       "  </thead>\n",
       "  <tbody>\n",
       "    <tr>\n",
       "      <th>0</th>\n",
       "      <td>2016-03-24 11:52:00</td>\n",
       "      <td>480</td>\n",
       "      <td>1993</td>\n",
       "      <td>0</td>\n",
       "      <td>150000</td>\n",
       "      <td>0</td>\n",
       "      <td>NaN</td>\n",
       "      <td>2016-03-24</td>\n",
       "      <td>70435</td>\n",
       "      <td>2016-04-07 03:16:00</td>\n",
       "      <td>...</td>\n",
       "      <td>0</td>\n",
       "      <td>0</td>\n",
       "      <td>0</td>\n",
       "      <td>0</td>\n",
       "      <td>0</td>\n",
       "      <td>0</td>\n",
       "      <td>0</td>\n",
       "      <td>0</td>\n",
       "      <td>1</td>\n",
       "      <td>0</td>\n",
       "    </tr>\n",
       "    <tr>\n",
       "      <th>1</th>\n",
       "      <td>2016-03-24 10:58:00</td>\n",
       "      <td>18300</td>\n",
       "      <td>2011</td>\n",
       "      <td>190</td>\n",
       "      <td>125000</td>\n",
       "      <td>5</td>\n",
       "      <td>1.0</td>\n",
       "      <td>2016-03-24</td>\n",
       "      <td>66954</td>\n",
       "      <td>2016-04-07 01:46:00</td>\n",
       "      <td>...</td>\n",
       "      <td>0</td>\n",
       "      <td>0</td>\n",
       "      <td>0</td>\n",
       "      <td>0</td>\n",
       "      <td>0</td>\n",
       "      <td>0</td>\n",
       "      <td>0</td>\n",
       "      <td>0</td>\n",
       "      <td>0</td>\n",
       "      <td>0</td>\n",
       "    </tr>\n",
       "    <tr>\n",
       "      <th>2</th>\n",
       "      <td>2016-03-14 12:52:00</td>\n",
       "      <td>9800</td>\n",
       "      <td>2004</td>\n",
       "      <td>163</td>\n",
       "      <td>125000</td>\n",
       "      <td>8</td>\n",
       "      <td>NaN</td>\n",
       "      <td>2016-03-14</td>\n",
       "      <td>90480</td>\n",
       "      <td>2016-04-05 12:47:00</td>\n",
       "      <td>...</td>\n",
       "      <td>0</td>\n",
       "      <td>0</td>\n",
       "      <td>0</td>\n",
       "      <td>0</td>\n",
       "      <td>0</td>\n",
       "      <td>0</td>\n",
       "      <td>0</td>\n",
       "      <td>0</td>\n",
       "      <td>0</td>\n",
       "      <td>0</td>\n",
       "    </tr>\n",
       "    <tr>\n",
       "      <th>3</th>\n",
       "      <td>2016-03-17 16:54:00</td>\n",
       "      <td>1500</td>\n",
       "      <td>2001</td>\n",
       "      <td>75</td>\n",
       "      <td>150000</td>\n",
       "      <td>6</td>\n",
       "      <td>0.0</td>\n",
       "      <td>2016-03-17</td>\n",
       "      <td>91074</td>\n",
       "      <td>2016-03-17 17:40:00</td>\n",
       "      <td>...</td>\n",
       "      <td>0</td>\n",
       "      <td>0</td>\n",
       "      <td>0</td>\n",
       "      <td>0</td>\n",
       "      <td>0</td>\n",
       "      <td>0</td>\n",
       "      <td>0</td>\n",
       "      <td>0</td>\n",
       "      <td>1</td>\n",
       "      <td>0</td>\n",
       "    </tr>\n",
       "  </tbody>\n",
       "</table>\n",
       "<p>4 rows × 314 columns</p>\n",
       "</div>"
      ],
      "text/plain": [
       "         date_crawled  price  registration_year  power  mileage  \\\n",
       "0 2016-03-24 11:52:00    480               1993      0   150000   \n",
       "1 2016-03-24 10:58:00  18300               2011    190   125000   \n",
       "2 2016-03-14 12:52:00   9800               2004    163   125000   \n",
       "3 2016-03-17 16:54:00   1500               2001     75   150000   \n",
       "\n",
       "   registration_month  not_repaired date_created  postal_code  \\\n",
       "0                   0           NaN   2016-03-24        70435   \n",
       "1                   5           1.0   2016-03-24        66954   \n",
       "2                   8           NaN   2016-03-14        90480   \n",
       "3                   6           0.0   2016-03-17        91074   \n",
       "\n",
       "            last_seen  ...  brand_seat  brand_skoda  brand_smart  \\\n",
       "0 2016-04-07 03:16:00  ...           0            0            0   \n",
       "1 2016-04-07 01:46:00  ...           0            0            0   \n",
       "2 2016-04-05 12:47:00  ...           0            0            0   \n",
       "3 2016-03-17 17:40:00  ...           0            0            0   \n",
       "\n",
       "   brand_sonstige_autos  brand_subaru  brand_suzuki  brand_toyota  \\\n",
       "0                     0             0             0             0   \n",
       "1                     0             0             0             0   \n",
       "2                     0             0             0             0   \n",
       "3                     0             0             0             0   \n",
       "\n",
       "   brand_trabant  brand_volkswagen  brand_volvo  \n",
       "0              0                 1            0  \n",
       "1              0                 0            0  \n",
       "2              0                 0            0  \n",
       "3              0                 1            0  \n",
       "\n",
       "[4 rows x 314 columns]"
      ]
     },
     "execution_count": 38,
     "metadata": {},
     "output_type": "execute_result"
    }
   ],
   "source": [
    "# applying 'OHE' to our Dataframe through the 'get_dummies' function\n",
    "df_ohe = pd.get_dummies(df, drop_first=True)\n",
    "\n",
    "# confirming that the swaps worked\n",
    "df_ohe.head(4)"
   ]
  },
  {
   "cell_type": "markdown",
   "metadata": {},
   "source": [
    "Apparently it worked. Now we will train our logistic regression model. We will not use dates to make the prediction as they are not important variables and their date and time format does not work in model building."
   ]
  },
  {
   "cell_type": "code",
   "execution_count": 39,
   "metadata": {},
   "outputs": [
    {
     "data": {
      "text/plain": [
       "0    0.898189\n",
       "1    0.101811\n",
       "Name: not_repaired, dtype: float64"
      ]
     },
     "execution_count": 39,
     "metadata": {},
     "output_type": "execute_result"
    }
   ],
   "source": [
    "# creating a dataset with no missing values in 'not_repaired'\n",
    "# and another one with just the missing values\n",
    "nan_df_ohe = df_ohe[df_ohe['not_repaired'].isna()]\n",
    "no_nan_df_ohe = df_ohe[~df_ohe['not_repaired'].isna()]\n",
    "\n",
    "# building our linear regression model\n",
    "# based on our encoded Dataframe with no missing values\n",
    "lr_nan = LogisticRegression(random_state=12345, solver='liblinear')\n",
    "lr_nan.fit(no_nan_df_ohe.drop(columns=['not_repaired', 'date_crawled', 'date_created', 'last_seen']),\n",
    "            no_nan_df_ohe['not_repaired'])\n",
    "\n",
    "# filling in the missing values with the predictions made by our model\n",
    "df['not_repaired'].fillna(pd.Series\n",
    "                          (lr_nan.predict(nan_df_ohe.drop(columns=['not_repaired', 'date_crawled', 'date_created', 'last_seen'])),\n",
    "                            index=nan_df_ohe.index),\n",
    "                           inplace=True)\n",
    "\n",
    "# transforming the data to integer values\n",
    "df['not_repaired'] = df['not_repaired'].astype('int')\n",
    "\n",
    "# commit the changes\n",
    "df['not_repaired'].value_counts(dropna=False, normalize=True)"
   ]
  },
  {
   "cell_type": "markdown",
   "metadata": {},
   "source": [
    "Virtually almost all NaN values have joined the group of cars that have already been fixed, we continue with 10% not repaired and we have increased 20% (to 89%) those that have been.\n",
    "\n",
    "Finally, we verify that there are no more missing values in our Dataframe. All fields with 354107 non-null values."
   ]
  },
  {
   "cell_type": "code",
   "execution_count": 40,
   "metadata": {},
   "outputs": [
    {
     "name": "stdout",
     "output_type": "stream",
     "text": [
      "<class 'pandas.core.frame.DataFrame'>\n",
      "RangeIndex: 354107 entries, 0 to 354106\n",
      "Data columns (total 15 columns):\n",
      " #   Column              Non-Null Count   Dtype         \n",
      "---  ------              --------------   -----         \n",
      " 0   date_crawled        354107 non-null  datetime64[ns]\n",
      " 1   price               354107 non-null  int64         \n",
      " 2   vehicle_type        354107 non-null  object        \n",
      " 3   registration_year   354107 non-null  int64         \n",
      " 4   gearbox             354107 non-null  object        \n",
      " 5   power               354107 non-null  int64         \n",
      " 6   model               354107 non-null  object        \n",
      " 7   mileage             354107 non-null  int64         \n",
      " 8   registration_month  354107 non-null  int64         \n",
      " 9   fuel_type           354107 non-null  object        \n",
      " 10  brand               354107 non-null  object        \n",
      " 11  not_repaired        354107 non-null  int64         \n",
      " 12  date_created        354107 non-null  datetime64[ns]\n",
      " 13  postal_code         354107 non-null  int64         \n",
      " 14  last_seen           354107 non-null  datetime64[ns]\n",
      "dtypes: datetime64[ns](3), int64(7), object(5)\n",
      "memory usage: 40.5+ MB\n"
     ]
    }
   ],
   "source": [
    "df.info()"
   ]
  },
  {
   "cell_type": "markdown",
   "metadata": {},
   "source": [
    "### Outliers and New Columns\n",
    "\n",
    "When performing an initial data scan, unusual values were observed in some columns of the dataset: `price`, `registration_year`, `power`, `registration_month`. Let's look at each of these values and decide how to process them. We are going to draw boxplots that allow us to visualize these outliers and inconsistent values in our dataset, for that we are going to create the function `boxplot_function`."
   ]
  },
  {
   "cell_type": "code",
   "execution_count": 44,
   "metadata": {},
   "outputs": [],
   "source": [
    "def boxplot_function(df, column, ylim=(0,0)):\n",
    "    \"\"\"\n",
    "    Returns a boxplot with its interquartile ranges\n",
    "    \n",
    "    :param df: dataset name\n",
    "    :param size: column name as string\n",
    "    :param seed: bounds of the y-axis of the graph\n",
    "\n",
    "    \"\"\"\n",
    "    Q1= df[column].quantile(0.25)\n",
    "    Q3= df[column].quantile(0.75)\n",
    "    IQR = Q3 - Q1\n",
    "\n",
    "    df.boxplot(column)\n",
    "    plt.ylim(ylim)\n",
    "    plt.hlines(y=[(Q1-1.5*IQR),(Q3+1.5*IQR)], xmin=0.9, xmax=1.1, color='red')\n",
    "    plt.show()"
   ]
  },
  {
   "cell_type": "markdown",
   "metadata": {},
   "source": [
    "#### Outliers in \"registration_year\"\n",
    "\n",
    "Let's apply the `boxplot_function` to the `registration_year` column and define the dates most users registered."
   ]
  },
  {
   "cell_type": "code",
   "execution_count": 46,
   "metadata": {},
   "outputs": [
    {
     "data": {
      "image/png": "[encoded data removed]",
      "text/plain": [
       "<Figure size 432x288 with 1 Axes>"
      ]
     },
     "metadata": {
      "needs_background": "light"
     },
     "output_type": "display_data"
    }
   ],
   "source": [
    "# creating a boxplot with upper and lower bounds\n",
    "boxplot_function(df, 'registration_year', (1940, 2300))"
   ]
  },
  {
   "cell_type": "code",
   "execution_count": 47,
   "metadata": {},
   "outputs": [
    {
     "name": "stdout",
     "output_type": "stream",
     "text": [
      "Oldest record date: 2014-03-10 00:00:00\n",
      "\n",
      "Most recent registration date: 2016-04-07 00:00:00\n",
      "\n",
      "Number of years covered by the data: 2\n"
     ]
    }
   ],
   "source": [
    "print(f'''Oldest record date: {df['date_created'].min()}\n",
    "\n",
    "Most recent registration date: {df['date_created'].max()}\n",
    "\n",
    "Number of years covered by the data: {df['date_created'].dt.year.max() - df['date_created'].dt.year.min()}''')"
   ]
  },
  {
   "cell_type": "markdown",
   "metadata": {},
   "source": [
    "In our box plot we can observe outliers with years of registration above 2060 and below 1900. Considering that the car was invented in the year 1886 and that the data records are until the year 2016. We will only consider the data that are located between 1900 and 2016.\n",
    "\n",
    "Since we cannot override or predict year of enrollment based on other variables, we will **filter** our dataset based on these values and **will use this filter going forward**."
   ]
  },
  {
   "cell_type": "code",
   "execution_count": 48,
   "metadata": {},
   "outputs": [
    {
     "data": {
      "text/plain": [
       "count    339512.000000\n",
       "mean       2002.481859\n",
       "std           7.091857\n",
       "min        1910.000000\n",
       "25%        1999.000000\n",
       "50%        2003.000000\n",
       "75%        2007.000000\n",
       "max        2016.000000\n",
       "Name: registration_year, dtype: float64"
      ]
     },
     "execution_count": 48,
     "metadata": {},
     "output_type": "execute_result"
    }
   ],
   "source": [
    "# filtering our Dataframe\n",
    "df_filtered = df.query('1900 <= registration_year <= 2016')\n",
    "\n",
    "# committing the changes\n",
    "df_filtered['registration_year'].describe()"
   ]
  },
  {
   "cell_type": "code",
   "execution_count": 49,
   "metadata": {},
   "outputs": [
    {
     "name": "stdout",
     "output_type": "stream",
     "text": [
      "Percentage of values eliminated: 4.121635550836329\n",
      "\n",
      "Filtered Dataframe Size in registration_year: 339512\n"
     ]
    }
   ],
   "source": [
    "print(f'Percentage of values eliminated: {(len(df) - len(df_filtered))*100/len(df)}')\n",
    "print()\n",
    "print(f'Filtered Dataframe Size in registration_year: {len(df_filtered)}')"
   ]
  },
  {
   "cell_type": "markdown",
   "metadata": {},
   "source": [
    "#### Outliers in \"price\"\n",
    "\n",
    "'Zero' values were registered in the sales price of the vehicle, this is related to those sellers who prefer that the buyer contact them directly, not putting the price of the vehicle.\n",
    "\n",
    "Let's apply our `boxplot_function` to the price column and let's look at the distribution data to make a better decision."
   ]
  },
  {
   "cell_type": "code",
   "execution_count": 50,
   "metadata": {},
   "outputs": [
    {
     "data": {
      "image/png": "[encoded data removed]",
      "text/plain": [
       "<Figure size 432x288 with 1 Axes>"
      ]
     },
     "metadata": {
      "needs_background": "light"
     },
     "output_type": "display_data"
    }
   ],
   "source": [
    "# creating a boxplot with upper and lower bounds\n",
    "boxplot_function(df, 'price', (-1000, 20000))"
   ]
  },
  {
   "cell_type": "markdown",
   "metadata": {},
   "source": [
    "In the boxplot, a positive asymmetry, already mentioned above, is observed, which is related to the high number of values close to zero in our data set.\n",
    "\n",
    "Since we will be building our model to predict these values, we will eliminate vehicles priced less than $99 as they have extraneous attributes that will affect our model."
   ]
  },
  {
   "cell_type": "code",
   "execution_count": 51,
   "metadata": {},
   "outputs": [
    {
     "data": {
      "text/plain": [
       "count    327172.000000\n",
       "mean       4639.560433\n",
       "std        4546.098270\n",
       "min          99.000000\n",
       "25%        1200.000000\n",
       "50%        2950.000000\n",
       "75%        6700.000000\n",
       "max       20000.000000\n",
       "Name: price, dtype: float64"
      ]
     },
     "execution_count": 51,
     "metadata": {},
     "output_type": "execute_result"
    }
   ],
   "source": [
    "# filtering our Dataframe\n",
    "df_filtered = df_filtered.query('99 <= price')\n",
    "\n",
    "# committing the changes\n",
    "df_filtered['price'].describe()"
   ]
  },
  {
   "cell_type": "markdown",
   "metadata": {},
   "source": [
    "Interesting that our outliers were concentrated downwards and we didn't have exorbitant and unexpected maximum values for cars.\n",
    "\n",
    "Let's confirm how much we already had to give up in our Dataframe:"
   ]
  },
  {
   "cell_type": "code",
   "execution_count": 52,
   "metadata": {},
   "outputs": [
    {
     "name": "stdout",
     "output_type": "stream",
     "text": [
      "Percentage of values eliminated in the price section: 3.6346285256485777\n",
      "\n",
      "Percentage of abnormal values eliminated in total: 7.606457935030937\n"
     ]
    }
   ],
   "source": [
    "print(f'Percentage of values eliminated in the price section: {(339512 - len(df_filtered))*100/339512}')\n",
    "print()\n",
    "print(f'Percentage of abnormal values eliminated in total: {(len(df) - len(df_filtered))*100/len(df)}')"
   ]
  },
  {
   "cell_type": "markdown",
   "metadata": {},
   "source": [
    "#### Outliers in \"power\"\n",
    "\n",
    "Now we will see the outliers in the `power` column that registered a maximum value of 20000hp and minimum values of 0hp, which are strange values for power in vehicles. We will apply our `boxplot_function` function to this column."
   ]
  },
  {
   "cell_type": "code",
   "execution_count": 54,
   "metadata": {},
   "outputs": [
    {
     "data": {
      "image/png": "[encoded data removed]",
      "text/plain": [
       "<Figure size 432x288 with 1 Axes>"
      ]
     },
     "metadata": {
      "needs_background": "light"
     },
     "output_type": "display_data"
    }
   ],
   "source": [
    "# creating boxplot to analyze car power data\n",
    "boxplot_function(df, 'power', (-200, 3000))"
   ]
  },
  {
   "cell_type": "markdown",
   "metadata": {},
   "source": [
    "By analyzing our box plot we can see outliers close to zero and above 3000hp.\n",
    "\n",
    "We must consider that the minimum power value for a vehicle is 60hp and that the maximum can reach up to 1800hp.\n",
    "\n",
    "We'll fill all the lower power values with NaN and then explore the possibility of substituting them based on other variables.\n",
    "\n",
    "As for the values above 2000hp, we will remove them as they constitute outliers."
   ]
  },
  {
   "cell_type": "code",
   "execution_count": 55,
   "metadata": {},
   "outputs": [
    {
     "data": {
      "text/plain": [
       "count    290012.000000\n",
       "mean        123.021723\n",
       "std          62.829852\n",
       "min          50.000000\n",
       "25%          80.000000\n",
       "50%         115.000000\n",
       "75%         150.000000\n",
       "max        2000.000000\n",
       "Name: power, dtype: float64"
      ]
     },
     "execution_count": 55,
     "metadata": {},
     "output_type": "execute_result"
    }
   ],
   "source": [
    "# removing from our Dataframe df_filtered the values greater than 2000cv\n",
    "df_filtered = df_filtered.query('power <= 2000')\n",
    "\n",
    "# replacing the values with power below 50hp by NaN\n",
    "df_filtered.loc[df_filtered['power'] < 50, 'power'] = np.nan\n",
    "\n",
    "# committing the changes\n",
    "df_filtered['power'].describe()"
   ]
  },
  {
   "cell_type": "code",
   "execution_count": 56,
   "metadata": {},
   "outputs": [
    {
     "name": "stdout",
     "output_type": "stream",
     "text": [
      "Percentage of unexpected values replaced by Nan: 11.330567369164493\n",
      "\n",
      "Percentage of outliers removed in total: 7.634980387284069\n",
      "\n",
      "Filtered dataset size: 327071\n"
     ]
    }
   ],
   "source": [
    "nan_power = df_filtered[df_filtered['power'].isna()]\n",
    "print(f'Percentage of unexpected values replaced by Nan: {nan_power.shape[0]/len(df_filtered)*100}')\n",
    "print()\n",
    "print(f'Percentage of outliers removed in total: {(len(df) - len(df_filtered))*100/len(df)}')\n",
    "print()\n",
    "print(f'Filtered dataset size: {len(df_filtered)}')"
   ]
  },
  {
   "cell_type": "markdown",
   "metadata": {},
   "source": [
    "We can see a high percentage of cars listed with less than 50hp (which we've substituted for NaN values), so we'll populate them based on vehicle model."
   ]
  },
  {
   "cell_type": "code",
   "execution_count": 57,
   "metadata": {},
   "outputs": [
    {
     "data": {
      "text/plain": [
       "133.0"
      ]
     },
     "execution_count": 57,
     "metadata": {},
     "output_type": "execute_result"
    }
   ],
   "source": [
    "# creating a filtered Dataframe with no missing values in 'power'\n",
    "# and building a pivot table grouped by model\n",
    "power_no_missing_values = df_filtered.dropna(subset=['power'])\n",
    "power_model = power_no_missing_values.pivot_table(index=['model'], values='power', aggfunc='median')\n",
    "\n",
    "# creating the fill_power function\n",
    "def fill_power(row):\n",
    "    '''\n",
    "    Returns the median based on the car model, if not possible, returns 'Error'\n",
    "    \n",
    "    :param row: row with the information that needs to be filled in\n",
    "    '''\n",
    "    model = row['model']\n",
    "    power = row['power']\n",
    "    \n",
    "    if pd.isna(power):\n",
    "        try:\n",
    "            return power_model.loc[model, 'power']\n",
    "        except:\n",
    "            return 'Error'\n",
    "    return power\n",
    "\n",
    "# confirming that the function works\n",
    "row_values = ['100', np.nan]\n",
    "row_columns = ['model', 'power']\n",
    "row = pd.Series(data=row_values, index=row_columns)\n",
    "fill_power(row)"
   ]
  },
  {
   "cell_type": "code",
   "execution_count": 58,
   "metadata": {},
   "outputs": [],
   "source": [
    "# applying the function to our Dataframe\n",
    "df_filtered['power'] = df_filtered.apply(fill_power, axis = 1)"
   ]
  },
  {
   "cell_type": "code",
   "execution_count": 59,
   "metadata": {},
   "outputs": [
    {
     "data": {
      "text/html": [
       "<div>\n",
       "<style scoped>\n",
       "    .dataframe tbody tr th:only-of-type {\n",
       "        vertical-align: middle;\n",
       "    }\n",
       "\n",
       "    .dataframe tbody tr th {\n",
       "        vertical-align: top;\n",
       "    }\n",
       "\n",
       "    .dataframe thead th {\n",
       "        text-align: right;\n",
       "    }\n",
       "</style>\n",
       "<table border=\"1\" class=\"dataframe\">\n",
       "  <thead>\n",
       "    <tr style=\"text-align: right;\">\n",
       "      <th></th>\n",
       "      <th>date_crawled</th>\n",
       "      <th>price</th>\n",
       "      <th>vehicle_type</th>\n",
       "      <th>registration_year</th>\n",
       "      <th>gearbox</th>\n",
       "      <th>power</th>\n",
       "      <th>model</th>\n",
       "      <th>mileage</th>\n",
       "      <th>registration_month</th>\n",
       "      <th>fuel_type</th>\n",
       "      <th>brand</th>\n",
       "      <th>not_repaired</th>\n",
       "      <th>date_created</th>\n",
       "      <th>postal_code</th>\n",
       "      <th>last_seen</th>\n",
       "    </tr>\n",
       "  </thead>\n",
       "  <tbody>\n",
       "    <tr>\n",
       "      <th>234175</th>\n",
       "      <td>2016-03-30 11:39:00</td>\n",
       "      <td>3800</td>\n",
       "      <td>wagon</td>\n",
       "      <td>1978</td>\n",
       "      <td>manual</td>\n",
       "      <td>Error</td>\n",
       "      <td>serie_1</td>\n",
       "      <td>30000</td>\n",
       "      <td>0</td>\n",
       "      <td>gasoline</td>\n",
       "      <td>land_rover</td>\n",
       "      <td>0</td>\n",
       "      <td>2016-03-30</td>\n",
       "      <td>49824</td>\n",
       "      <td>2016-03-30 11:39:00</td>\n",
       "    </tr>\n",
       "  </tbody>\n",
       "</table>\n",
       "</div>"
      ],
      "text/plain": [
       "              date_crawled  price vehicle_type  registration_year gearbox  \\\n",
       "234175 2016-03-30 11:39:00   3800        wagon               1978  manual   \n",
       "\n",
       "        power    model  mileage  registration_month fuel_type       brand  \\\n",
       "234175  Error  serie_1    30000                   0  gasoline  land_rover   \n",
       "\n",
       "        not_repaired date_created  postal_code           last_seen  \n",
       "234175             0   2016-03-30        49824 2016-03-30 11:39:00  "
      ]
     },
     "execution_count": 59,
     "metadata": {},
     "output_type": "execute_result"
    }
   ],
   "source": [
    "# confirming if there are unfilled values\n",
    "df_filtered[df_filtered['power'] == 'Error']"
   ]
  },
  {
   "cell_type": "markdown",
   "metadata": {},
   "source": [
    "One of the power values was not filled in correctly, this corresponds to the Land Rover 1 series vehicle. The power of this make and model of vehicle is 50hp, so we will fill this NaN value with the consulted information and we will convert the whole column to integer type."
   ]
  },
  {
   "cell_type": "code",
   "execution_count": 60,
   "metadata": {},
   "outputs": [
    {
     "name": "stdout",
     "output_type": "stream",
     "text": [
      "Number of errors in power: 0\n",
      "\n",
      "count    327071.000000\n",
      "mean        120.832834\n",
      "std          60.931922\n",
      "min          50.000000\n",
      "25%          75.000000\n",
      "50%         110.000000\n",
      "75%         147.000000\n",
      "max        2000.000000\n",
      "Name: power, dtype: float64\n",
      "\n",
      "Percentage of abnormal values eliminated in total: 7.634980387284069\n"
     ]
    }
   ],
   "source": [
    "# replacing the power value corresponding to the Land Rover Series 1\n",
    "df_filtered.loc[df_filtered['power'] == 'Error', 'power'] = 50\n",
    "\n",
    "# converting the column to integer type\n",
    "df_filtered['power'] = df_filtered['power'].astype('int')\n",
    "\n",
    "# confirming the results\n",
    "print('Number of errors in power:', len(df_filtered[df_filtered['power'] == 'Error']))\n",
    "print()\n",
    "print(df_filtered['power'].describe())\n",
    "\n",
    "print()\n",
    "\n",
    "print(f'Percentage of abnormal values eliminated in total: {(len(df) - len(df_filtered))*100/len(df)}')"
   ]
  },
  {
   "cell_type": "markdown",
   "metadata": {},
   "source": [
    "At least the `power` data didn't cause enough decrease in our data count."
   ]
  },
  {
   "cell_type": "markdown",
   "metadata": {},
   "source": [
    "#### Outliers in \"registration_month\"\n",
    "\n",
    "When exploring the initial dataset, we found zero values for the vehicle's registration month, which may be related to the fact that the seller did not provide this information. So let's replace it with the column median."
   ]
  },
  {
   "cell_type": "code",
   "execution_count": 61,
   "metadata": {},
   "outputs": [
    {
     "data": {
      "text/plain": [
       "3     0.099498\n",
       "6     0.090531\n",
       "0     0.086415\n",
       "4     0.084141\n",
       "5     0.083811\n",
       "7     0.078463\n",
       "10    0.075549\n",
       "11    0.070025\n",
       "12    0.069707\n",
       "9     0.069016\n",
       "1     0.066560\n",
       "8     0.065029\n",
       "2     0.061256\n",
       "Name: registration_month, dtype: float64"
      ]
     },
     "execution_count": 61,
     "metadata": {},
     "output_type": "execute_result"
    }
   ],
   "source": [
    "# confirming registration_month unique values\n",
    "df_filtered['registration_month'].value_counts(normalize=True)"
   ]
  },
  {
   "cell_type": "markdown",
   "metadata": {},
   "source": [
    "We'll replace the zero values with the median of enrollment month and verify the changes by calling `value_counts`."
   ]
  },
  {
   "cell_type": "code",
   "execution_count": 62,
   "metadata": {},
   "outputs": [
    {
     "data": {
      "text/plain": [
       "6     0.176946\n",
       "3     0.099498\n",
       "4     0.084141\n",
       "5     0.083811\n",
       "7     0.078463\n",
       "10    0.075549\n",
       "11    0.070025\n",
       "12    0.069707\n",
       "9     0.069016\n",
       "1     0.066560\n",
       "8     0.065029\n",
       "2     0.061256\n",
       "Name: registration_month, dtype: float64"
      ]
     },
     "execution_count": 62,
     "metadata": {},
     "output_type": "execute_result"
    }
   ],
   "source": [
    "# replacing the months with 'zero' values by the median of the column\n",
    "df_filtered['registration_month'] = (df_filtered['registration_month'].replace(0,\n",
    "                                                                               df_filtered['registration_month'].median())\n",
    "                                      .astype('int'))\n",
    "\n",
    "# committing the changes\n",
    "df_filtered['registration_month'].value_counts(normalize=True)"
   ]
  },
  {
   "cell_type": "markdown",
   "metadata": {},
   "source": [
    "The month of March had the most records and now we have the month of June in first place, which is even better than having removed 8% of our data."
   ]
  },
  {
   "cell_type": "markdown",
   "metadata": {},
   "source": [
    "#### Vehicle Age Calculation\n",
    "\n",
    "Now we will add a new characteristic to our Dataframe: `car_age`. This will show the age of the car from the year in which the vehicle was registered until the year in which the user profile of this car was created on the site."
   ]
  },
  {
   "cell_type": "code",
   "execution_count": 63,
   "metadata": {},
   "outputs": [
    {
     "data": {
      "text/plain": [
       "count    327071.000000\n",
       "mean         13.376888\n",
       "std           6.864718\n",
       "min           0.000000\n",
       "25%           9.000000\n",
       "50%          13.000000\n",
       "75%          17.000000\n",
       "max         106.000000\n",
       "Name: car_age, dtype: float64"
      ]
     },
     "execution_count": 63,
     "metadata": {},
     "output_type": "execute_result"
    }
   ],
   "source": [
    "# calculating the age of each vehicle\n",
    "df_filtered['car_age'] = df_filtered['date_created'].dt.year - df['registration_year']\n",
    "\n",
    "# changing the age of the car to integer type\n",
    "df_filtered['car_age'] = df_filtered['car_age'].astype(int)\n",
    "\n",
    "# confirming the calculations\n",
    "df_filtered['car_age'].describe()"
   ]
  },
  {
   "cell_type": "markdown",
   "metadata": {},
   "source": [
    "We are dealing with a data set of relatively recent cars, the majority (75%) are no more than 17 years old. We have some already selling their car in the same year of purchase and other classics with more than a century."
   ]
  },
  {
   "cell_type": "markdown",
   "metadata": {},
   "source": [
    "#### Final Dataset\n",
    "\n",
    "Let's filter out those columns that won't be useful in building our models. In this case we will eliminate the characteristics of date, postal code and registration date, for the latter the new column `car_age` was created that presents the years of the vehicle and would be related to the year of registration of the vehicle."
   ]
  },
  {
   "cell_type": "code",
   "execution_count": 64,
   "metadata": {},
   "outputs": [
    {
     "data": {
      "text/html": [
       "<div>\n",
       "<style scoped>\n",
       "    .dataframe tbody tr th:only-of-type {\n",
       "        vertical-align: middle;\n",
       "    }\n",
       "\n",
       "    .dataframe tbody tr th {\n",
       "        vertical-align: top;\n",
       "    }\n",
       "\n",
       "    .dataframe thead th {\n",
       "        text-align: right;\n",
       "    }\n",
       "</style>\n",
       "<table border=\"1\" class=\"dataframe\">\n",
       "  <thead>\n",
       "    <tr style=\"text-align: right;\">\n",
       "      <th></th>\n",
       "      <th>price</th>\n",
       "      <th>vehicle_type</th>\n",
       "      <th>gearbox</th>\n",
       "      <th>power</th>\n",
       "      <th>model</th>\n",
       "      <th>mileage</th>\n",
       "      <th>fuel_type</th>\n",
       "      <th>brand</th>\n",
       "      <th>not_repaired</th>\n",
       "      <th>car_age</th>\n",
       "    </tr>\n",
       "  </thead>\n",
       "  <tbody>\n",
       "    <tr>\n",
       "      <th>0</th>\n",
       "      <td>480</td>\n",
       "      <td>sedan</td>\n",
       "      <td>manual</td>\n",
       "      <td>101</td>\n",
       "      <td>golf</td>\n",
       "      <td>150000</td>\n",
       "      <td>gasoline</td>\n",
       "      <td>volkswagen</td>\n",
       "      <td>0</td>\n",
       "      <td>23</td>\n",
       "    </tr>\n",
       "    <tr>\n",
       "      <th>1</th>\n",
       "      <td>18300</td>\n",
       "      <td>coupe</td>\n",
       "      <td>manual</td>\n",
       "      <td>190</td>\n",
       "      <td>a4</td>\n",
       "      <td>125000</td>\n",
       "      <td>gasoline</td>\n",
       "      <td>audi</td>\n",
       "      <td>1</td>\n",
       "      <td>5</td>\n",
       "    </tr>\n",
       "    <tr>\n",
       "      <th>2</th>\n",
       "      <td>9800</td>\n",
       "      <td>suv</td>\n",
       "      <td>auto</td>\n",
       "      <td>163</td>\n",
       "      <td>grand</td>\n",
       "      <td>125000</td>\n",
       "      <td>gasoline</td>\n",
       "      <td>jeep</td>\n",
       "      <td>0</td>\n",
       "      <td>12</td>\n",
       "    </tr>\n",
       "    <tr>\n",
       "      <th>3</th>\n",
       "      <td>1500</td>\n",
       "      <td>small</td>\n",
       "      <td>manual</td>\n",
       "      <td>75</td>\n",
       "      <td>golf</td>\n",
       "      <td>150000</td>\n",
       "      <td>gasoline</td>\n",
       "      <td>volkswagen</td>\n",
       "      <td>0</td>\n",
       "      <td>15</td>\n",
       "    </tr>\n",
       "    <tr>\n",
       "      <th>4</th>\n",
       "      <td>3600</td>\n",
       "      <td>small</td>\n",
       "      <td>manual</td>\n",
       "      <td>69</td>\n",
       "      <td>fabia</td>\n",
       "      <td>90000</td>\n",
       "      <td>gasoline</td>\n",
       "      <td>skoda</td>\n",
       "      <td>0</td>\n",
       "      <td>8</td>\n",
       "    </tr>\n",
       "  </tbody>\n",
       "</table>\n",
       "</div>"
      ],
      "text/plain": [
       "   price vehicle_type gearbox  power  model  mileage fuel_type       brand  \\\n",
       "0    480        sedan  manual    101   golf   150000  gasoline  volkswagen   \n",
       "1  18300        coupe  manual    190     a4   125000  gasoline        audi   \n",
       "2   9800          suv    auto    163  grand   125000  gasoline        jeep   \n",
       "3   1500        small  manual     75   golf   150000  gasoline  volkswagen   \n",
       "4   3600        small  manual     69  fabia    90000  gasoline       skoda   \n",
       "\n",
       "   not_repaired  car_age  \n",
       "0             0       23  \n",
       "1             1        5  \n",
       "2             0       12  \n",
       "3             0       15  \n",
       "4             0        8  "
      ]
     },
     "execution_count": 64,
     "metadata": {},
     "output_type": "execute_result"
    }
   ],
   "source": [
    "# removing the fields that we are not interested in for the creation of our model\n",
    "df_final = df_filtered.drop(['date_crawled', 'registration_year','registration_month', 'date_created', 'postal_code', 'last_seen'], axis=1)\n",
    "\n",
    "# viewing the first rows of our machine learning-ready Dataframe\n",
    "df_final.head()"
   ]
  },
  {
   "cell_type": "code",
   "execution_count": 65,
   "metadata": {},
   "outputs": [
    {
     "data": {
      "text/html": [
       "<div>\n",
       "<style scoped>\n",
       "    .dataframe tbody tr th:only-of-type {\n",
       "        vertical-align: middle;\n",
       "    }\n",
       "\n",
       "    .dataframe tbody tr th {\n",
       "        vertical-align: top;\n",
       "    }\n",
       "\n",
       "    .dataframe thead th {\n",
       "        text-align: right;\n",
       "    }\n",
       "</style>\n",
       "<table border=\"1\" class=\"dataframe\">\n",
       "  <thead>\n",
       "    <tr style=\"text-align: right;\">\n",
       "      <th></th>\n",
       "      <th>price</th>\n",
       "      <th>power</th>\n",
       "      <th>mileage</th>\n",
       "      <th>not_repaired</th>\n",
       "      <th>car_age</th>\n",
       "    </tr>\n",
       "  </thead>\n",
       "  <tbody>\n",
       "    <tr>\n",
       "      <th>count</th>\n",
       "      <td>327071.000000</td>\n",
       "      <td>327071.000000</td>\n",
       "      <td>327071.000000</td>\n",
       "      <td>327071.000000</td>\n",
       "      <td>327071.000000</td>\n",
       "    </tr>\n",
       "    <tr>\n",
       "      <th>mean</th>\n",
       "      <td>4639.853903</td>\n",
       "      <td>120.832834</td>\n",
       "      <td>128359.973828</td>\n",
       "      <td>0.099128</td>\n",
       "      <td>13.376888</td>\n",
       "    </tr>\n",
       "    <tr>\n",
       "      <th>std</th>\n",
       "      <td>4546.295861</td>\n",
       "      <td>60.931922</td>\n",
       "      <td>37257.806549</td>\n",
       "      <td>0.298835</td>\n",
       "      <td>6.864718</td>\n",
       "    </tr>\n",
       "    <tr>\n",
       "      <th>min</th>\n",
       "      <td>99.000000</td>\n",
       "      <td>50.000000</td>\n",
       "      <td>5000.000000</td>\n",
       "      <td>0.000000</td>\n",
       "      <td>0.000000</td>\n",
       "    </tr>\n",
       "    <tr>\n",
       "      <th>25%</th>\n",
       "      <td>1200.000000</td>\n",
       "      <td>75.000000</td>\n",
       "      <td>125000.000000</td>\n",
       "      <td>0.000000</td>\n",
       "      <td>9.000000</td>\n",
       "    </tr>\n",
       "    <tr>\n",
       "      <th>50%</th>\n",
       "      <td>2950.000000</td>\n",
       "      <td>110.000000</td>\n",
       "      <td>150000.000000</td>\n",
       "      <td>0.000000</td>\n",
       "      <td>13.000000</td>\n",
       "    </tr>\n",
       "    <tr>\n",
       "      <th>75%</th>\n",
       "      <td>6700.000000</td>\n",
       "      <td>147.000000</td>\n",
       "      <td>150000.000000</td>\n",
       "      <td>0.000000</td>\n",
       "      <td>17.000000</td>\n",
       "    </tr>\n",
       "    <tr>\n",
       "      <th>max</th>\n",
       "      <td>20000.000000</td>\n",
       "      <td>2000.000000</td>\n",
       "      <td>150000.000000</td>\n",
       "      <td>1.000000</td>\n",
       "      <td>106.000000</td>\n",
       "    </tr>\n",
       "  </tbody>\n",
       "</table>\n",
       "</div>"
      ],
      "text/plain": [
       "               price          power        mileage   not_repaired  \\\n",
       "count  327071.000000  327071.000000  327071.000000  327071.000000   \n",
       "mean     4639.853903     120.832834  128359.973828       0.099128   \n",
       "std      4546.295861      60.931922   37257.806549       0.298835   \n",
       "min        99.000000      50.000000    5000.000000       0.000000   \n",
       "25%      1200.000000      75.000000  125000.000000       0.000000   \n",
       "50%      2950.000000     110.000000  150000.000000       0.000000   \n",
       "75%      6700.000000     147.000000  150000.000000       0.000000   \n",
       "max     20000.000000    2000.000000  150000.000000       1.000000   \n",
       "\n",
       "             car_age  \n",
       "count  327071.000000  \n",
       "mean       13.376888  \n",
       "std         6.864718  \n",
       "min         0.000000  \n",
       "25%         9.000000  \n",
       "50%        13.000000  \n",
       "75%        17.000000  \n",
       "max       106.000000  "
      ]
     },
     "execution_count": 65,
     "metadata": {},
     "output_type": "execute_result"
    }
   ],
   "source": [
    "# checking statistical data from the numerical fields of our Dataframe\n",
    "df_final.describe()"
   ]
  },
  {
   "cell_type": "code",
   "execution_count": 66,
   "metadata": {},
   "outputs": [
    {
     "name": "stdout",
     "output_type": "stream",
     "text": [
      "<class 'pandas.core.frame.DataFrame'>\n",
      "Int64Index: 327071 entries, 0 to 354106\n",
      "Data columns (total 10 columns):\n",
      " #   Column        Non-Null Count   Dtype \n",
      "---  ------        --------------   ----- \n",
      " 0   price         327071 non-null  int64 \n",
      " 1   vehicle_type  327071 non-null  object\n",
      " 2   gearbox       327071 non-null  object\n",
      " 3   power         327071 non-null  int64 \n",
      " 4   model         327071 non-null  object\n",
      " 5   mileage       327071 non-null  int64 \n",
      " 6   fuel_type     327071 non-null  object\n",
      " 7   brand         327071 non-null  object\n",
      " 8   not_repaired  327071 non-null  int64 \n",
      " 9   car_age       327071 non-null  int64 \n",
      "dtypes: int64(5), object(5)\n",
      "memory usage: 35.5+ MB\n"
     ]
    }
   ],
   "source": [
    "# checking basic information after our changes\n",
    "df_final.info()"
   ]
  },
  {
   "cell_type": "markdown",
   "metadata": {},
   "source": [
    "## Model Training\n",
    "\n",
    "\n",
    "With the missing and outliers corrected, we'll move on to building multiple machine learning models that meet the company's dispositions. In this case, we will compare decision tree, random forest and linear regression models with gradient boosting methods: LightGBM, CatBoost and XGBoost.\n",
    "\n",
    "\n",
    "In this data set, the characteristics `brand` and `model` have 40 and 250 categories respectively, so it will be necessary to take into account which coding method will be used for each model, since they would be high cardinality variables.\n",
    "\n",
    "\n",
    "For example, One-Hot Encoding will be useful for our linear regression model, but it will not be useful for our tree models as they process one function at a time. For this reason, we will generate different datasets with coded and standardized features according to the learning algorithm that will be used.\n",
    "\n",
    "\n",
    "We will measure the training and prediction speed of each model, and its quality will be measured through the RECM.\n",
    "\n",
    "\n",
    "**Note:** The time obtained through the python time method will vary each time the kernel is run, so the values obtained will be approximate."
   ]
  },
  {
   "cell_type": "markdown",
   "metadata": {},
   "source": [
    "### Linear Regression\n",
    "\n",
    "\n",
    "For linear regression, the best coding technique is OHE (One-Hot Encoding), as the categories are coded in such a way that the same importance is assigned to all, but without losing their differences. In turn, we perform the standardization of numerical characteristics through StandardScaler. We will use linear regression as our sanity test, looking for better quality gradient potentiation methods."
   ]
  },
  {
   "cell_type": "code",
   "execution_count": 67,
   "metadata": {},
   "outputs": [
    {
     "data": {
      "text/html": [
       "<div>\n",
       "<style scoped>\n",
       "    .dataframe tbody tr th:only-of-type {\n",
       "        vertical-align: middle;\n",
       "    }\n",
       "\n",
       "    .dataframe tbody tr th {\n",
       "        vertical-align: top;\n",
       "    }\n",
       "\n",
       "    .dataframe thead th {\n",
       "        text-align: right;\n",
       "    }\n",
       "</style>\n",
       "<table border=\"1\" class=\"dataframe\">\n",
       "  <thead>\n",
       "    <tr style=\"text-align: right;\">\n",
       "      <th></th>\n",
       "      <th>price</th>\n",
       "      <th>power</th>\n",
       "      <th>mileage</th>\n",
       "      <th>not_repaired</th>\n",
       "      <th>car_age</th>\n",
       "      <th>vehicle_type_convertible</th>\n",
       "      <th>vehicle_type_coupe</th>\n",
       "      <th>vehicle_type_other</th>\n",
       "      <th>vehicle_type_sedan</th>\n",
       "      <th>vehicle_type_small</th>\n",
       "      <th>...</th>\n",
       "      <th>brand_seat</th>\n",
       "      <th>brand_skoda</th>\n",
       "      <th>brand_smart</th>\n",
       "      <th>brand_sonstige_autos</th>\n",
       "      <th>brand_subaru</th>\n",
       "      <th>brand_suzuki</th>\n",
       "      <th>brand_toyota</th>\n",
       "      <th>brand_trabant</th>\n",
       "      <th>brand_volkswagen</th>\n",
       "      <th>brand_volvo</th>\n",
       "    </tr>\n",
       "  </thead>\n",
       "  <tbody>\n",
       "    <tr>\n",
       "      <th>0</th>\n",
       "      <td>480</td>\n",
       "      <td>-0.325492</td>\n",
       "      <td>0.580819</td>\n",
       "      <td>0</td>\n",
       "      <td>1.401824</td>\n",
       "      <td>0</td>\n",
       "      <td>0</td>\n",
       "      <td>0</td>\n",
       "      <td>1</td>\n",
       "      <td>0</td>\n",
       "      <td>...</td>\n",
       "      <td>0</td>\n",
       "      <td>0</td>\n",
       "      <td>0</td>\n",
       "      <td>0</td>\n",
       "      <td>0</td>\n",
       "      <td>0</td>\n",
       "      <td>0</td>\n",
       "      <td>0</td>\n",
       "      <td>1</td>\n",
       "      <td>0</td>\n",
       "    </tr>\n",
       "    <tr>\n",
       "      <th>1</th>\n",
       "      <td>18300</td>\n",
       "      <td>1.135157</td>\n",
       "      <td>-0.090182</td>\n",
       "      <td>1</td>\n",
       "      <td>-1.220283</td>\n",
       "      <td>0</td>\n",
       "      <td>1</td>\n",
       "      <td>0</td>\n",
       "      <td>0</td>\n",
       "      <td>0</td>\n",
       "      <td>...</td>\n",
       "      <td>0</td>\n",
       "      <td>0</td>\n",
       "      <td>0</td>\n",
       "      <td>0</td>\n",
       "      <td>0</td>\n",
       "      <td>0</td>\n",
       "      <td>0</td>\n",
       "      <td>0</td>\n",
       "      <td>0</td>\n",
       "      <td>0</td>\n",
       "    </tr>\n",
       "    <tr>\n",
       "      <th>2</th>\n",
       "      <td>9800</td>\n",
       "      <td>0.692038</td>\n",
       "      <td>-0.090182</td>\n",
       "      <td>0</td>\n",
       "      <td>-0.200575</td>\n",
       "      <td>0</td>\n",
       "      <td>0</td>\n",
       "      <td>0</td>\n",
       "      <td>0</td>\n",
       "      <td>0</td>\n",
       "      <td>...</td>\n",
       "      <td>0</td>\n",
       "      <td>0</td>\n",
       "      <td>0</td>\n",
       "      <td>0</td>\n",
       "      <td>0</td>\n",
       "      <td>0</td>\n",
       "      <td>0</td>\n",
       "      <td>0</td>\n",
       "      <td>0</td>\n",
       "      <td>0</td>\n",
       "    </tr>\n",
       "    <tr>\n",
       "      <th>3</th>\n",
       "      <td>1500</td>\n",
       "      <td>-0.752199</td>\n",
       "      <td>0.580819</td>\n",
       "      <td>0</td>\n",
       "      <td>0.236443</td>\n",
       "      <td>0</td>\n",
       "      <td>0</td>\n",
       "      <td>0</td>\n",
       "      <td>0</td>\n",
       "      <td>1</td>\n",
       "      <td>...</td>\n",
       "      <td>0</td>\n",
       "      <td>0</td>\n",
       "      <td>0</td>\n",
       "      <td>0</td>\n",
       "      <td>0</td>\n",
       "      <td>0</td>\n",
       "      <td>0</td>\n",
       "      <td>0</td>\n",
       "      <td>1</td>\n",
       "      <td>0</td>\n",
       "    </tr>\n",
       "    <tr>\n",
       "      <th>4</th>\n",
       "      <td>3600</td>\n",
       "      <td>-0.850669</td>\n",
       "      <td>-1.029584</td>\n",
       "      <td>0</td>\n",
       "      <td>-0.783265</td>\n",
       "      <td>0</td>\n",
       "      <td>0</td>\n",
       "      <td>0</td>\n",
       "      <td>0</td>\n",
       "      <td>1</td>\n",
       "      <td>...</td>\n",
       "      <td>0</td>\n",
       "      <td>1</td>\n",
       "      <td>0</td>\n",
       "      <td>0</td>\n",
       "      <td>0</td>\n",
       "      <td>0</td>\n",
       "      <td>0</td>\n",
       "      <td>0</td>\n",
       "      <td>0</td>\n",
       "      <td>0</td>\n",
       "    </tr>\n",
       "  </tbody>\n",
       "</table>\n",
       "<p>5 rows × 309 columns</p>\n",
       "</div>"
      ],
      "text/plain": [
       "   price     power   mileage  not_repaired   car_age  \\\n",
       "0    480 -0.325492  0.580819             0  1.401824   \n",
       "1  18300  1.135157 -0.090182             1 -1.220283   \n",
       "2   9800  0.692038 -0.090182             0 -0.200575   \n",
       "3   1500 -0.752199  0.580819             0  0.236443   \n",
       "4   3600 -0.850669 -1.029584             0 -0.783265   \n",
       "\n",
       "   vehicle_type_convertible  vehicle_type_coupe  vehicle_type_other  \\\n",
       "0                         0                   0                   0   \n",
       "1                         0                   1                   0   \n",
       "2                         0                   0                   0   \n",
       "3                         0                   0                   0   \n",
       "4                         0                   0                   0   \n",
       "\n",
       "   vehicle_type_sedan  vehicle_type_small  ...  brand_seat  brand_skoda  \\\n",
       "0                   1                   0  ...           0            0   \n",
       "1                   0                   0  ...           0            0   \n",
       "2                   0                   0  ...           0            0   \n",
       "3                   0                   1  ...           0            0   \n",
       "4                   0                   1  ...           0            1   \n",
       "\n",
       "   brand_smart  brand_sonstige_autos  brand_subaru  brand_suzuki  \\\n",
       "0            0                     0             0             0   \n",
       "1            0                     0             0             0   \n",
       "2            0                     0             0             0   \n",
       "3            0                     0             0             0   \n",
       "4            0                     0             0             0   \n",
       "\n",
       "   brand_toyota  brand_trabant  brand_volkswagen  brand_volvo  \n",
       "0             0              0                 1            0  \n",
       "1             0              0                 0            0  \n",
       "2             0              0                 0            0  \n",
       "3             0              0                 1            0  \n",
       "4             0              0                 0            0  \n",
       "\n",
       "[5 rows x 309 columns]"
      ]
     },
     "execution_count": 67,
     "metadata": {},
     "output_type": "execute_result"
    }
   ],
   "source": [
    "# encoding the categorical features via 'get_dummies'\n",
    "df_ohe = pd.get_dummies(df_final, drop_first=True)\n",
    "\n",
    "# setting the numerical characteristics\n",
    "numeric_ohe = ['power', 'mileage', 'car_age']\n",
    "\n",
    "# scaling the numbers\n",
    "scaler = StandardScaler()\n",
    "scaler.fit(df_ohe[numeric_ohe])\n",
    "df_ohe[numeric_ohe] = scaler.transform(df_ohe[numeric_ohe])\n",
    "df_ohe.head()"
   ]
  },
  {
   "cell_type": "markdown",
   "metadata": {},
   "source": [
    "We standardized the numerical variables `power`, `mileage` and `car_age`.\n",
    "\n",
    "Now we'll divide `price` as the training objective from the rest of the Dataframe fields and assign 75% to training and 25% to testing:"
   ]
  },
  {
   "cell_type": "code",
   "execution_count": 68,
   "metadata": {},
   "outputs": [
    {
     "name": "stdout",
     "output_type": "stream",
     "text": [
      "\n",
      "OHE training set size: (245303, 308), (245303,)\n",
      "\n",
      "OHE test set size: (81768, 308), (81768,)\n"
     ]
    }
   ],
   "source": [
    "# establishing the characteristics and purpose for the linear regression\n",
    "x_ohe = df_ohe.drop('price', axis=1)\n",
    "y_ohe = df_ohe['price']\n",
    "\n",
    "# splitting training and testing sets in 75:25 ratio\n",
    "x_train_ohe, x_test_ohe, y_train_ohe, y_test_ohe = train_test_split(x_ohe, y_ohe, test_size=0.25, random_state=12345)\n",
    "\n",
    "# confirming that the data split correctly\n",
    "print()\n",
    "print(f'OHE training set size: {x_train_ohe.shape}, {y_train_ohe.shape}')\n",
    "print()\n",
    "print(f'OHE test set size: {x_test_ohe.shape}, {y_test_ohe.shape}')"
   ]
  },
  {
   "cell_type": "markdown",
   "metadata": {},
   "source": [
    "The division looks good and now we will train our linear regression model, make predictions and use RMSE to evaluate the test, in addition to measuring its time:"
   ]
  },
  {
   "cell_type": "code",
   "execution_count": 69,
   "metadata": {},
   "outputs": [
    {
     "name": "stdout",
     "output_type": "stream",
     "text": [
      "Linear Regression RMSE: 2844.636\n",
      "Training time: 20.393s\n",
      "Test time: 0.062s\n"
     ]
    }
   ],
   "source": [
    "# training the linear regression model\n",
    "start_train = time.time()\n",
    "lr_model = LinearRegression()\n",
    "lr_model.fit(x_train_ohe, y_train_ohe)\n",
    "end_train = time.time()\n",
    "\n",
    "# making the predictions\n",
    "start_test = time.time()\n",
    "y_pred = lr_model.predict(x_test_ohe)\n",
    "end_test = time.time()\n",
    "\n",
    "train_time_lr = end_train - start_train\n",
    "test_time_lr = end_test - start_test\n",
    "\n",
    "# setting the RMSE for our proof of sanity\n",
    "rmse_lr = mean_squared_error(y_test_ohe, y_pred)**0.5\n",
    "print(f'Linear Regression RMSE: {rmse_lr:.3f}')\n",
    "print(f'Training time: {train_time_lr:.3f}s')\n",
    "print(f'Test time: {test_time_lr:.3f}s')"
   ]
  },
  {
   "cell_type": "markdown",
   "metadata": {},
   "source": [
    "The linear regression model returned a RECM of 2844, this will be our sanity test and will serve as a baseline value to compare the other models and gradient feeding methods.\n",
    "\n",
    "If a gradient model performs worse than 2844, something has gone wrong. The training time was ≈20s and the time to make predictions was ≈0.20s."
   ]
  },
  {
   "cell_type": "markdown",
   "metadata": {},
   "source": [
    "### Decision tree\n",
    "\n",
    "When we have features with high cardinality, we better change the encoding method. The use of OHE in variables with a large number of categories decreases the efficiency of tree-based models, as it generates very sparse decision trees with few division options, especially when it comes to only two categories in one-hot coding.\n",
    "\n",
    "In addition, it causes the model to give more importance to those continuous features, giving less importance to categorical features and, with that, the quality and performance of the model decreases.\n",
    "\n",
    "With all that in mind, we'll use label coding to build our tree models.\n",
    "\n",
    "We'll use `GridsearchCV` to find the best hyperparameters, train our model, and measure training and testing time with the Python timing library."
   ]
  },
  {
   "cell_type": "code",
   "execution_count": 70,
   "metadata": {},
   "outputs": [
    {
     "data": {
      "text/html": [
       "<div>\n",
       "<style scoped>\n",
       "    .dataframe tbody tr th:only-of-type {\n",
       "        vertical-align: middle;\n",
       "    }\n",
       "\n",
       "    .dataframe tbody tr th {\n",
       "        vertical-align: top;\n",
       "    }\n",
       "\n",
       "    .dataframe thead th {\n",
       "        text-align: right;\n",
       "    }\n",
       "</style>\n",
       "<table border=\"1\" class=\"dataframe\">\n",
       "  <thead>\n",
       "    <tr style=\"text-align: right;\">\n",
       "      <th></th>\n",
       "      <th>price</th>\n",
       "      <th>vehicle_type</th>\n",
       "      <th>gearbox</th>\n",
       "      <th>power</th>\n",
       "      <th>model</th>\n",
       "      <th>mileage</th>\n",
       "      <th>fuel_type</th>\n",
       "      <th>brand</th>\n",
       "      <th>not_repaired</th>\n",
       "      <th>car_age</th>\n",
       "    </tr>\n",
       "  </thead>\n",
       "  <tbody>\n",
       "    <tr>\n",
       "      <th>0</th>\n",
       "      <td>480</td>\n",
       "      <td>4.0</td>\n",
       "      <td>1.0</td>\n",
       "      <td>101</td>\n",
       "      <td>116.0</td>\n",
       "      <td>150000</td>\n",
       "      <td>2.0</td>\n",
       "      <td>38.0</td>\n",
       "      <td>0</td>\n",
       "      <td>23</td>\n",
       "    </tr>\n",
       "    <tr>\n",
       "      <th>1</th>\n",
       "      <td>18300</td>\n",
       "      <td>2.0</td>\n",
       "      <td>1.0</td>\n",
       "      <td>190</td>\n",
       "      <td>29.0</td>\n",
       "      <td>125000</td>\n",
       "      <td>2.0</td>\n",
       "      <td>1.0</td>\n",
       "      <td>1</td>\n",
       "      <td>5</td>\n",
       "    </tr>\n",
       "    <tr>\n",
       "      <th>2</th>\n",
       "      <td>9800</td>\n",
       "      <td>6.0</td>\n",
       "      <td>0.0</td>\n",
       "      <td>163</td>\n",
       "      <td>117.0</td>\n",
       "      <td>125000</td>\n",
       "      <td>2.0</td>\n",
       "      <td>14.0</td>\n",
       "      <td>0</td>\n",
       "      <td>12</td>\n",
       "    </tr>\n",
       "    <tr>\n",
       "      <th>3</th>\n",
       "      <td>1500</td>\n",
       "      <td>5.0</td>\n",
       "      <td>1.0</td>\n",
       "      <td>75</td>\n",
       "      <td>116.0</td>\n",
       "      <td>150000</td>\n",
       "      <td>2.0</td>\n",
       "      <td>38.0</td>\n",
       "      <td>0</td>\n",
       "      <td>15</td>\n",
       "    </tr>\n",
       "    <tr>\n",
       "      <th>4</th>\n",
       "      <td>3600</td>\n",
       "      <td>5.0</td>\n",
       "      <td>1.0</td>\n",
       "      <td>69</td>\n",
       "      <td>101.0</td>\n",
       "      <td>90000</td>\n",
       "      <td>2.0</td>\n",
       "      <td>31.0</td>\n",
       "      <td>0</td>\n",
       "      <td>8</td>\n",
       "    </tr>\n",
       "  </tbody>\n",
       "</table>\n",
       "</div>"
      ],
      "text/plain": [
       "   price  vehicle_type  gearbox  power  model  mileage  fuel_type  brand  \\\n",
       "0    480           4.0      1.0    101  116.0   150000        2.0   38.0   \n",
       "1  18300           2.0      1.0    190   29.0   125000        2.0    1.0   \n",
       "2   9800           6.0      0.0    163  117.0   125000        2.0   14.0   \n",
       "3   1500           5.0      1.0     75  116.0   150000        2.0   38.0   \n",
       "4   3600           5.0      1.0     69  101.0    90000        2.0   31.0   \n",
       "\n",
       "   not_repaired  car_age  \n",
       "0             0       23  \n",
       "1             1        5  \n",
       "2             0       12  \n",
       "3             0       15  \n",
       "4             0        8  "
      ]
     },
     "execution_count": 70,
     "metadata": {},
     "output_type": "execute_result"
    }
   ],
   "source": [
    "# creating a copy of our 'df_final' which will contain the categories with label encoding\n",
    "df_ordinal = df_final.copy()\n",
    "\n",
    "# establishing the categorical characteristics\n",
    "cat_features = ['vehicle_type', 'gearbox', 'model', 'fuel_type', 'brand']\n",
    "\n",
    "# encoding the categorical features and confirming the exchanges\n",
    "encoder = OrdinalEncoder()\n",
    "encoder.fit(df_final[cat_features])\n",
    "df_ordinal[cat_features] = pd.DataFrame(encoder.transform(df[cat_features]),columns=cat_features)\n",
    "df_ordinal.head()"
   ]
  },
  {
   "cell_type": "markdown",
   "metadata": {},
   "source": [
    "We standardized the categorical variables `vehicle_type`, `gearbox`, `model`, `fuel_type` and `brand`.\n",
    "\n",
    "Now we'll divide `price` as the training objective from the rest of the Dataframe fields and assign 75% to training and 25% to testing:"
   ]
  },
  {
   "cell_type": "code",
   "execution_count": 71,
   "metadata": {},
   "outputs": [
    {
     "name": "stdout",
     "output_type": "stream",
     "text": [
      "\n",
      "Ordinal training set size: (245303, 9), (245303,)\n",
      "\n",
      "Ordinal test set size: (81768, 9), (81768,)\n"
     ]
    }
   ],
   "source": [
    "# splitting our Dataframe into features and purpose\n",
    "x_ord = df_ordinal.drop('price', axis=1)\n",
    "y_ord = df_ordinal['price']\n",
    "\n",
    "# establishing the training and testing set\n",
    "x_train_ord, x_test_ord, y_train_ord, y_test_ord = train_test_split(x_ord, y_ord, test_size=0.25, random_state=12345)\n",
    "\n",
    "# confirming the correct division of the data\n",
    "print()\n",
    "print(f'Ordinal training set size: {x_train_ord.shape}, {y_train_ord.shape}')\n",
    "print()\n",
    "print(f'Ordinal test set size: {x_test_ord.shape}, {y_test_ord.shape}')"
   ]
  },
  {
   "cell_type": "markdown",
   "metadata": {},
   "source": [
    "Great. Now that the division has been done well, we will do the:\n",
    "\n",
    "**Adjustment of hyperparameters**"
   ]
  },
  {
   "cell_type": "code",
   "execution_count": 72,
   "metadata": {},
   "outputs": [],
   "source": [
    "# setting the decision tree hyperparameters\n",
    "params_dt = {\n",
    "    'max_depth': [1, 2, 3, 4, 5, 6] ,\n",
    "    'min_samples_split': [2, 4, 6, 8],\n",
    "    'min_samples_leaf': [2, 4, 6, 8],\n",
    "}\n",
    "\n",
    "# calling the GridSearchCV function and passing the established hyperparameters,\n",
    "# the metric and value for cross validation\n",
    "gridSearch_dt = GridSearchCV(\n",
    "    estimator=DecisionTreeRegressor(),\n",
    "    param_grid=params_dt,\n",
    "    scoring='neg_root_mean_squared_error',\n",
    "    cv=3\n",
    ")"
   ]
  },
  {
   "cell_type": "code",
   "execution_count": 73,
   "metadata": {},
   "outputs": [
    {
     "name": "stdout",
     "output_type": "stream",
     "text": [
      "Decision Tree hyperparameter tuning time: 52.180s\n"
     ]
    }
   ],
   "source": [
    "# training the model to find the best hyperparameters and counting its time\n",
    "start = time.time()\n",
    "gridSearch_dt.fit(x_train_ord, y_train_ord)\n",
    "end = time.time()\n",
    "\n",
    "print(f'Decision Tree hyperparameter tuning time: {end-start:.3f}s')"
   ]
  },
  {
   "cell_type": "code",
   "execution_count": 74,
   "metadata": {},
   "outputs": [
    {
     "name": "stdout",
     "output_type": "stream",
     "text": [
      "\n",
      "Best hyperparameters:\n",
      "{'max_depth': 6, 'min_samples_leaf': 2, 'min_samples_split': 2}\n",
      "\n",
      "Best RMSE:\n",
      "2314.8968240567137\n"
     ]
    }
   ],
   "source": [
    "# searching for the best hyperparameters that returned the lowest RMSE value\n",
    "max_score = gridSearch_dt.cv_results_['mean_test_score'].max()\n",
    "index_max_score = np.where(gridSearch_dt.cv_results_['mean_test_score'] == max_score)[0][0]\n",
    "\n",
    "best_set_of_params = gridSearch_dt.cv_results_['params'][index_max_score]\n",
    "\n",
    "print()\n",
    "print(\"Best hyperparameters:\")\n",
    "print(best_set_of_params)\n",
    "print()\n",
    "print(\"Best RMSE:\")\n",
    "print(-max_score)"
   ]
  },
  {
   "cell_type": "markdown",
   "metadata": {},
   "source": [
    "**Model Training**"
   ]
  },
  {
   "cell_type": "code",
   "execution_count": 75,
   "metadata": {},
   "outputs": [
    {
     "name": "stdout",
     "output_type": "stream",
     "text": [
      "Decision Tree RMSE: 2331.312\n",
      "Training time: 0.458s\n",
      "Test time: 0.010s\n"
     ]
    }
   ],
   "source": [
    "# training our model with the best hyperparameters\n",
    "# and performing predictions on the test set\n",
    "start_train = time.time()\n",
    "dt_model = DecisionTreeRegressor(random_state=12345, max_depth=6, min_samples_split=2, min_samples_leaf=2)\n",
    "dt_model.fit(x_train_ord, y_train_ord)\n",
    "end_train = time.time()\n",
    "\n",
    "start_test = time.time()\n",
    "y_pred_dt = dt_model.predict(x_test_ord)\n",
    "end_test = time.time()\n",
    "\n",
    "train_time_dt = end_train - start_train\n",
    "test_time_dt = end_test - start_test\n",
    "\n",
    "rmse_dt = mean_squared_error(y_test_ord, y_pred_dt)**0.5\n",
    "print(f'Decision Tree RMSE: {rmse_dt:.3f}')\n",
    "print(f'Training time: {train_time_dt:.3f}s')\n",
    "print(f'Test time: {test_time_dt:.3f}s')"
   ]
  },
  {
   "cell_type": "code",
   "execution_count": 76,
   "metadata": {},
   "outputs": [
    {
     "data": {
      "image/png": "[encoded data removed]",
      "text/plain": [
       "<Figure size 1080x360 with 3 Axes>"
      ]
     },
     "metadata": {
      "needs_background": "light"
     },
     "output_type": "display_data"
    }
   ],
   "source": [
    "model_names = ['Linear Regression', 'Decision Tree']\n",
    "rmse_values = [rmse_lr, rmse_dt]\n",
    "train_times = [train_time_lr, train_time_dt]\n",
    "test_times = [test_time_lr, test_time_dt]\n",
    "\n",
    "fig, axes = plt.subplots(nrows=1, ncols=3, figsize=(15, 5))\n",
    "\n",
    "# RMSE Comparison Chart\n",
    "axes[0].bar(model_names, rmse_values, color=['blue', 'green'])\n",
    "axes[0].set_xlabel('Models')\n",
    "axes[0].set_ylabel('RMSE')\n",
    "axes[0].set_title('RMSE Comparison between Models')\n",
    "\n",
    "# Training Time Comparison Chart\n",
    "axes[1].bar(model_names, train_times, color=['blue', 'green'])\n",
    "axes[1].set_xlabel('Models')\n",
    "axes[1].set_ylabel('Training time (s)')\n",
    "axes[1].set_title('Training Time Comparison between Models')\n",
    "\n",
    "# Test Time Comparison Chart\n",
    "axes[2].bar(model_names, test_times, color=['blue', 'green'])\n",
    "axes[2].set_xlabel('Models')\n",
    "axes[2].set_ylabel('Test time (s)')\n",
    "axes[2].set_title('Test Time Comparison between Models')\n",
    "\n",
    "plt.tight_layout()\n",
    "plt.show()"
   ]
  },
  {
   "cell_type": "markdown",
   "metadata": {},
   "source": [
    "Based on the results obtained so far, the Decision Tree model seems to be a better choice in terms of accuracy (RMSE) and computational efficiency (training and testing time) than the Linear Regression model."
   ]
  },
  {
   "cell_type": "markdown",
   "metadata": {},
   "source": [
    "### Random Forest\n",
    "\n",
    "As with our decision tree, in the Random Forest we will use our training and test set with ordinal encoding for categorical features.\n",
    "\n",
    "**Adjustment of Hyperparameters**"
   ]
  },
  {
   "cell_type": "code",
   "execution_count": 77,
   "metadata": {},
   "outputs": [],
   "source": [
    "# setting the values to determine the best hyperparameters\n",
    "params_rf = {\n",
    "    'n_estimators' : [10, 20, 40],\n",
    "    'max_depth': [1, 2, 3, 4, 5, 6]\n",
    "}\n",
    "\n",
    "# calling GridSearchCV and passing the hyperparameter values...\n",
    "# the RMSE metric and the cross-validation value\n",
    "gridSearch_rf = GridSearchCV(\n",
    "    estimator=RandomForestRegressor(),\n",
    "    param_grid=params_rf,\n",
    "    scoring='neg_root_mean_squared_error',\n",
    "    cv=3\n",
    ")"
   ]
  },
  {
   "cell_type": "code",
   "execution_count": 78,
   "metadata": {},
   "outputs": [
    {
     "name": "stdout",
     "output_type": "stream",
     "text": [
      "Hyperparameter adjustment time in the Random Forest: 157.445s\n"
     ]
    }
   ],
   "source": [
    "# training the model to find the best hyperparameters\n",
    "start = time.time()\n",
    "gridSearch_rf.fit(x_train_ord, y_train_ord)\n",
    "end = time.time()\n",
    "\n",
    "print(f'Hyperparameter adjustment time in the Random Forest: {end-start:.3f}s')"
   ]
  },
  {
   "cell_type": "code",
   "execution_count": 79,
   "metadata": {},
   "outputs": [
    {
     "name": "stdout",
     "output_type": "stream",
     "text": [
      "\n",
      "Best hyperparameters:\n",
      "{'max_depth': 6, 'n_estimators': 40}\n",
      "\n",
      "Best RMSE:\n",
      "2254.762673850359\n"
     ]
    }
   ],
   "source": [
    "# searching for the best hyperparameters\n",
    "max_score = gridSearch_rf.cv_results_[\"mean_test_score\"].max()\n",
    "index_max_score = np.where(gridSearch_rf.cv_results_[\"mean_test_score\"] == max_score)[0][0]\n",
    "\n",
    "best_set_of_params = gridSearch_rf.cv_results_[\"params\"][index_max_score]\n",
    "\n",
    "print()\n",
    "print(\"Best hyperparameters:\")\n",
    "print(best_set_of_params)\n",
    "print()\n",
    "print(\"Best RMSE:\")\n",
    "print(-max_score)"
   ]
  },
  {
   "cell_type": "markdown",
   "metadata": {},
   "source": [
    "**Model Training**"
   ]
  },
  {
   "cell_type": "code",
   "execution_count": 80,
   "metadata": {},
   "outputs": [
    {
     "name": "stdout",
     "output_type": "stream",
     "text": [
      "Random Forest RMSE: 2271.996\n",
      "Training time: 13.032s\n",
      "Test time: 0.196s\n"
     ]
    }
   ],
   "source": [
    "# training the model with the best hyperparameters\n",
    "# and performing predictions on the test set\n",
    "start_train = time.time()\n",
    "rf_model = RandomForestRegressor(random_state=12345, max_depth=6, n_estimators=40)\n",
    "rf_model.fit(x_train_ord, y_train_ord)\n",
    "end_train = time.time()\n",
    "\n",
    "start_test = time.time()\n",
    "y_pred_rf = rf_model.predict(x_test_ord)\n",
    "end_test = time.time()\n",
    "\n",
    "train_time_rf = end_train - start_train\n",
    "test_time_rf = end_test - start_test\n",
    "\n",
    "rmse_rf = mean_squared_error(y_test_ord, y_pred_rf)**0.5\n",
    "print(f'Random Forest RMSE: {rmse_rf:.3f}')\n",
    "print(f'Training time: {train_time_rf:.3f}s')\n",
    "print(f'Test time: {test_time_rf:.3f}s')"
   ]
  },
  {
   "cell_type": "code",
   "execution_count": 81,
   "metadata": {},
   "outputs": [
    {
     "data": {
      "image/png": "[encoded data removed]",
      "text/plain": [
       "<Figure size 1080x360 with 3 Axes>"
      ]
     },
     "metadata": {
      "needs_background": "light"
     },
     "output_type": "display_data"
    }
   ],
   "source": [
    "model_names = ['Linear Regression', 'Decision Tree', 'Random Forest']\n",
    "rmse_values = [rmse_lr, rmse_dt, rmse_rf]\n",
    "train_times = [train_time_lr, train_time_dt, train_time_rf]\n",
    "test_times = [test_time_lr, test_time_dt, test_time_rf]\n",
    "\n",
    "fig, axes = plt.subplots(nrows=1, ncols=3, figsize=(15, 5))\n",
    "\n",
    "# RMSE Comparison Chart\n",
    "rmse_bar = axes[0].bar(model_names, rmse_values, color=['blue', 'green', 'purple'])\n",
    "axes[0].set_xlabel('Models')\n",
    "axes[0].set_ylabel('RMSE')\n",
    "axes[0].set_title('RMSE Comparison between Models')\n",
    "axes[0].set_xticks(range(len(model_names))) # Setting tick locations\n",
    "axes[0].set_xticklabels(model_names, rotation=45, ha='right') # Label rotation\n",
    "\n",
    "# Training Time Comparison Chart\n",
    "train_time_bar = axes[1].bar(model_names, train_times, color=['blue', 'green', 'purple'])\n",
    "axes[1].set_xlabel('Models')\n",
    "axes[1].set_ylabel('Training time (s)')\n",
    "axes[1].set_title('Training Time Comparison between Models')\n",
    "axes[1].set_xticks(range(len(model_names))) # Setting tick locations\n",
    "axes[1].set_xticklabels(model_names, rotation=45, ha='right') # Label rotation\n",
    "\n",
    "# Test Time Comparison Chart\n",
    "test_time_bar = axes[2].bar(model_names, test_times, color=['blue', 'green', 'purple'])\n",
    "axes[2].set_xlabel('Models')\n",
    "axes[2].set_ylabel('Test time (s)')\n",
    "axes[2].set_title('Test Time Comparison between Models')\n",
    "axes[2].set_xticks(range(len(model_names))) # Setting tick locations\n",
    "axes[2].set_xticklabels(model_names, rotation=45, ha='right') # Label rotation\n",
    "\n",
    "plt.tight_layout()\n",
    "plt.show()"
   ]
  },
  {
   "cell_type": "markdown",
   "metadata": {},
   "source": [
    "Random Forest also performs well with respect to accuracy (RMSE), with an RMSE value of 2271,996. However, its training time is longer than Decision Tree, totaling 13.3 seconds, which is still less than Linear Regression training time. Its trial time is 0.197 seconds, slightly longer than Decision Tree.\n",
    "\n",
    "As such, considering both accuracy and computational efficiency, the Decision Tree model remains a solid choice over Linear Regression and Random Forest for this particular dataset."
   ]
  },
  {
   "cell_type": "markdown",
   "metadata": {},
   "source": [
    "### CatBoost\n",
    "\n",
    "CatBoost is a gradient boosting method that uses an optimized algorithm to split your trees, i.e., it will select that tree split that has the lowest penalty, regardless of how that decision contributes to the overall optimal solution of the model.\n",
    "\n",
    "In turn, this method is based on symmetric trees that present a consistent division of nodes at the same depth of the tree. And the most important thing about this algorithm is that it does not require preprocessing of categorical features, so there is no need to apply OHE or label encoding as the method itself assigns labels through the use of permutations of the dataset.\n",
    "\n",
    "So we will work directly with our final `df_final` dataset and pass a list of categorical `cat_features` features when training the model."
   ]
  },
  {
   "cell_type": "code",
   "execution_count": 82,
   "metadata": {},
   "outputs": [
    {
     "name": "stdout",
     "output_type": "stream",
     "text": [
      "Training set size: (245303, 9), (245303,)\n",
      "Test set size: (81768, 9), (81768,)\n"
     ]
    }
   ],
   "source": [
    "# setting the characteristics and goals from 'df_final'\n",
    "x = df_final.drop('price', axis=1)\n",
    "y = df_final['price']\n",
    "\n",
    "# splitting the training and testing sets\n",
    "x_train, x_test, y_train, y_test = train_test_split(x, y, test_size=0.25, random_state=12345)\n",
    "\n",
    "# confirming the correct division of the data\n",
    "print(f'Training set size: {x_train.shape}, {y_train.shape}')\n",
    "print(f'Test set size: {x_test.shape}, {y_test.shape}')"
   ]
  },
  {
   "cell_type": "markdown",
   "metadata": {},
   "source": [
    "**Adjustment of Hyperparameters**"
   ]
  },
  {
   "cell_type": "code",
   "execution_count": 83,
   "metadata": {},
   "outputs": [
    {
     "name": "stdout",
     "output_type": "stream",
     "text": [
      "CatBoost hyperparameter tuning time: 378.819s\n"
     ]
    }
   ],
   "source": [
    "# defining the categorical characteristics\n",
    "cat_features = ['vehicle_type',\n",
    "                'gearbox',\n",
    "                'model',\n",
    "                'fuel_type',\n",
    "                'brand']\n",
    "\n",
    "# establishing the hyperparameters that we are going to adjust\n",
    "params_catboost = {\n",
    "    'depth': [4, 6, 10],\n",
    "    'learning_rate': [0.1, 0.2, 0.5]\n",
    "}\n",
    "\n",
    "# calling the estimator we will use\n",
    "# in this case the CatBoostRegressor and passing the GridSearchCv\n",
    "catboost_est = CatBoostRegressor(iterations=100, cat_features=cat_features, verbose=False, loss_function='RMSE')\n",
    "\n",
    "gridSearch_catboost = GridSearchCV(\n",
    "    estimator=catboost_est,\n",
    "    param_grid=params_catboost,\n",
    "    scoring='neg_root_mean_squared_error',\n",
    "    cv=3\n",
    ")\n",
    "\n",
    "# training the model in search of hyperpermeters with less RMSE\n",
    "start = time.time()\n",
    "gridSearch_catboost.fit(x_train, y_train)\n",
    "end = time.time()\n",
    "print(f'CatBoost hyperparameter tuning time: {end-start:.3f}s')"
   ]
  },
  {
   "cell_type": "code",
   "execution_count": 84,
   "metadata": {},
   "outputs": [
    {
     "name": "stdout",
     "output_type": "stream",
     "text": [
      "\n",
      "Best hyperparameters:\n",
      "{'depth': 10, 'learning_rate': 0.5}\n",
      "Best RMSE:\n",
      "1677.884267168148\n"
     ]
    }
   ],
   "source": [
    "# searching for the best hyperparameters\n",
    "max_score = gridSearch_catboost.cv_results_[\"mean_test_score\"].max()\n",
    "index_max_score = np.where(gridSearch_catboost.cv_results_[\"mean_test_score\"] == max_score)[0][0]\n",
    "\n",
    "best_set_of_params = gridSearch_catboost.cv_results_[\"params\"][index_max_score]\n",
    "\n",
    "print()\n",
    "print(\"Best hyperparameters:\")\n",
    "print(best_set_of_params)\n",
    "print(\"Best RMSE:\")\n",
    "print(-max_score)"
   ]
  },
  {
   "cell_type": "markdown",
   "metadata": {},
   "source": [
    "**Model Training**"
   ]
  },
  {
   "cell_type": "code",
   "execution_count": 85,
   "metadata": {},
   "outputs": [
    {
     "name": "stdout",
     "output_type": "stream",
     "text": [
      "RECM CatBoost: 1648.352\n",
      "Training time: 29.768s\n",
      "Test time: 0.151s\n"
     ]
    }
   ],
   "source": [
    "# Training our model with the best hyperparameters\n",
    "# and making predictions with the test set\n",
    "catboost_model = CatBoostRegressor(iterations=100,\n",
    "                                  depth=10,\n",
    "                                  learning_rate=0.5,\n",
    "                                  loss_function='RMSE',\n",
    "                                  random_seed=12345)\n",
    "\n",
    "start_train = time.time()\n",
    "catboost_model.fit(x_train, y_train, cat_features=cat_features, verbose=False)\n",
    "end_train = time.time()\n",
    "\n",
    "start_test = time.time()\n",
    "y_pred_cat = catboost_model.predict(x_test)\n",
    "end_test = time.time()\n",
    "\n",
    "train_time_cb = end_train - start_train\n",
    "test_time_cb = end_test - start_test\n",
    "\n",
    "rmse_catboost = mean_squared_error(y_test, y_pred_cat)**0.5\n",
    "print(f'RECM CatBoost: {rmse_catboost:.3f}')\n",
    "print(f'Training time: {train_time_cb:.3f}s')\n",
    "print(f'Test time: {test_time_cb:.3f}s')"
   ]
  },
  {
   "cell_type": "code",
   "execution_count": 86,
   "metadata": {},
   "outputs": [
    {
     "data": {
      "image/png": "[encoded data removed]",
      "text/plain": [
       "<Figure size 1080x360 with 3 Axes>"
      ]
     },
     "metadata": {
      "needs_background": "light"
     },
     "output_type": "display_data"
    }
   ],
   "source": [
    "model_names = ['Linear Regression', 'Decision Tree', 'Random Forest', 'CatBoost']\n",
    "rmse_values = [rmse_lr, rmse_dt, rmse_rf, rmse_catboost]\n",
    "train_times = [train_time_lr, train_time_dt, train_time_rf, train_time_cb]\n",
    "test_times = [test_time_lr, test_time_dt, test_time_rf, test_time_cb]\n",
    "\n",
    "fig, axes = plt.subplots(nrows=1, ncols=3, figsize=(15, 5))\n",
    "\n",
    "# RMSE Comparison Chart\n",
    "rmse_bar = axes[0].bar(model_names, rmse_values, color=['blue', 'green', 'orange', 'red'])\n",
    "axes[0].set_xlabel('Models')\n",
    "axes[0].set_ylabel('RMSE')\n",
    "axes[0].set_title('RMSE Comparison between Models')\n",
    "axes[0].set_xticks(range(len(model_names))) # Setting tick locations\n",
    "axes[0].set_xticklabels(model_names, rotation=45, ha='right') # Label rotation\n",
    "\n",
    "# Training Time Comparison Chart\n",
    "train_time_bar = axes[1].bar(model_names, train_times, color=['blue', 'green', 'orange', 'red'])\n",
    "axes[1].set_xlabel('Models')\n",
    "axes[1].set_ylabel('Training time (s)')\n",
    "axes[1].set_title('Training Time Comparison between Models')\n",
    "axes[1].set_xticks(range(len(model_names))) # Setting tick locations\n",
    "axes[1].set_xticklabels(model_names, rotation=45, ha='right') # Label rotation\n",
    "\n",
    "# Test Time Comparison Chart\n",
    "test_time_bar = axes[2].bar(model_names, test_times, color=['blue', 'green', 'orange', 'red'])\n",
    "axes[2].set_xlabel('Models')\n",
    "axes[2].set_ylabel('Test time (s)')\n",
    "axes[2].set_title('Test Time Comparison between Models')\n",
    "axes[2].set_xticks(range(len(model_names))) # Setting tick locations\n",
    "axes[2].set_xticklabels(model_names, rotation=45, ha='right') # Label rotation\n",
    "\n",
    "plt.tight_layout()\n",
    "plt.show()"
   ]
  },
  {
   "cell_type": "markdown",
   "metadata": {},
   "source": [
    "So far we got:\n",
    "\n",
    "* The CatBoost model had the lowest RMSE among the evaluated models, with an RMSE value of 1648,352, demonstrating a high accuracy in predicting car prices.\n",
    "\n",
    "\n",
    "* Random Forest also performed well in terms of RMSE, with a value of 2271,996, although slightly lower than CatBoost.\n",
    "\n",
    "\n",
    "* In terms of computational efficiency, the Decision Tree remains the fastest model in both training and testing time, with values of 0.393s and 0.009s, respectively.\n",
    "\n",
    "\n",
    "* Linear Regression, despite being a simpler method, has a significantly higher RMSE (2844.636) and a longer training time (18.924s) compared to the other models."
   ]
  },
  {
   "cell_type": "markdown",
   "metadata": {},
   "source": [
    "### LightGBM\n",
    "\n",
    "The LightGBM gradient enhancement method uses asymmetric trees and relies on tree calculations, so it splits the tree leaf with the best fit, thus producing greater accuracy and decreasing errors that can occur when using levels per calculation.\n",
    "\n",
    "Like Catboost, it can process categorical features, but it doesn't use one-hot encoding. It is necessary to previously transform the characteristics to an integer type, as it does not accept variables of type string or object. Let's then change the categorical features to the `category` type, which is what we'll do next to train our model."
   ]
  },
  {
   "cell_type": "code",
   "execution_count": 87,
   "metadata": {},
   "outputs": [
    {
     "name": "stdout",
     "output_type": "stream",
     "text": [
      "Training set size: (245303, 9), (245303,)\n",
      "Test set size: (81768, 9), (81768,)\n"
     ]
    }
   ],
   "source": [
    "# transforming categorical characteristics into 'category' type\n",
    "for feature in cat_features:\n",
    "    df_final[feature] = df_final[feature].astype('category')\n",
    "    \n",
    "# establishing the characteristics and objective from the 'df_final'\n",
    "x_gbm = df_final.drop('price', axis=1)\n",
    "y_gbm = df_final['price']\n",
    "\n",
    "# split into training and test sets\n",
    "x_train_gbm, x_test_gbm, y_train_gbm, y_test_gbm = train_test_split(x_gbm, y_gbm, test_size=0.25, random_state=12345)\n",
    "\n",
    "# confirm the division\n",
    "print(f'Training set size: {x_train_gbm.shape}, {y_train_gbm.shape}')\n",
    "print(f'Test set size: {x_test_gbm.shape}, {y_test_gbm.shape}')"
   ]
  },
  {
   "cell_type": "markdown",
   "metadata": {},
   "source": [
    "**Adjustment of Hyperparameters**"
   ]
  },
  {
   "cell_type": "code",
   "execution_count": 88,
   "metadata": {},
   "outputs": [
    {
     "name": "stdout",
     "output_type": "stream",
     "text": [
      "LightGBM hyperparameter tuning time: 152.879s\n"
     ]
    }
   ],
   "source": [
    "# setting the hyperparameters we are going to compare\n",
    "params_lightgbm = {\n",
    "    'n_estimators': [200, 300],\n",
    "    'learning_rate': [0.1, 0.2],\n",
    "    'num_leaves': [15, 20]\n",
    "}\n",
    "\n",
    "# setting the estimator we will use and calling the GridSearchCV function\n",
    "lightgbm_est = LGBMRegressor()\n",
    "\n",
    "gridSearch_lightgbm = GridSearchCV(\n",
    "    estimator=lightgbm_est,\n",
    "    param_grid=params_lightgbm,\n",
    "    scoring='neg_root_mean_squared_error',\n",
    "    cv=3\n",
    ")\n",
    "\n",
    "# training our model in the search for the best parameters\n",
    "start = time.time()\n",
    "gridSearch_lightgbm.fit(x_train_gbm, y_train_gbm)\n",
    "end = time.time()\n",
    "print(f'LightGBM hyperparameter tuning time: {end-start:.3f}s')"
   ]
  },
  {
   "cell_type": "code",
   "execution_count": 89,
   "metadata": {},
   "outputs": [
    {
     "name": "stdout",
     "output_type": "stream",
     "text": [
      "\n",
      "Best hyperparameters:\n",
      "{'learning_rate': 0.2, 'n_estimators': 300, 'num_leaves': 20}\n",
      "\n",
      "Best RMSE:\n",
      "1640.0575980456586\n"
     ]
    }
   ],
   "source": [
    "# fetching the best model hyperparameters\n",
    "max_score = gridSearch_lightgbm.cv_results_[\"mean_test_score\"].max()\n",
    "index_max_score = np.where(gridSearch_lightgbm.cv_results_[\"mean_test_score\"] == max_score)[0][0]\n",
    "\n",
    "best_set_of_params = gridSearch_lightgbm.cv_results_[\"params\"][index_max_score]\n",
    "\n",
    "print()\n",
    "print(\"Best hyperparameters:\")\n",
    "print(best_set_of_params)\n",
    "print()\n",
    "print(\"Best RMSE:\")\n",
    "print(-max_score)"
   ]
  },
  {
   "cell_type": "markdown",
   "metadata": {},
   "source": [
    "**Training the Model**"
   ]
  },
  {
   "cell_type": "code",
   "execution_count": 90,
   "metadata": {},
   "outputs": [
    {
     "name": "stdout",
     "output_type": "stream",
     "text": [
      "RMSE LightGBM: 1616.837\n",
      "Training time: 6.212s\n",
      "Test time: 1.808s\n"
     ]
    }
   ],
   "source": [
    "# training our model with the best hyperparameters\n",
    "# and performing predictions on the test set\n",
    "lightgbm_model = LGBMRegressor(n_estimators=300,\n",
    "                                  learning_rate=0.2,\n",
    "                                  num_leaves=20,\n",
    "                                  random_state=12345)\n",
    "\n",
    "start_train = time.time()\n",
    "lightgbm_model.fit(x_train_gbm, y_train_gbm)\n",
    "end_train = time.time()\n",
    "\n",
    "start_test = time.time()\n",
    "y_pred_gbm = lightgbm_model.predict(x_test_gbm)\n",
    "end_test = time.time()\n",
    "\n",
    "train_time_lg = end_train - start_train\n",
    "test_time_lg = end_test - start_test\n",
    "\n",
    "rmse_lightgbm = mean_squared_error(y_test_gbm, y_pred_gbm)**0.5\n",
    "print(f'RMSE LightGBM: {rmse_lightgbm:.3f}')\n",
    "print(f'Training time: {train_time_lg:.3f}s')\n",
    "print(f'Test time: {test_time_lg:.3f}s')"
   ]
  },
  {
   "cell_type": "code",
   "execution_count": 91,
   "metadata": {},
   "outputs": [
    {
     "data": {
      "image/png": "[encoded data removed]",
      "text/plain": [
       "<Figure size 1080x360 with 3 Axes>"
      ]
     },
     "metadata": {
      "needs_background": "light"
     },
     "output_type": "display_data"
    }
   ],
   "source": [
    "model_names = ['Linear Regression', 'Decision Tree', 'Random Forest', 'CatBoost', 'LightGBM']\n",
    "rmse_values = [rmse_lr, rmse_dt, rmse_rf, rmse_catboost, rmse_lightgbm]\n",
    "train_times = [train_time_lr, train_time_dt, train_time_rf, train_time_cb, train_time_lg]\n",
    "test_times = [test_time_lr, test_time_dt, test_time_rf, test_time_cb, test_time_lg]\n",
    "\n",
    "fig, axes = plt.subplots(nrows=1, ncols=3, figsize=(15, 5))\n",
    "\n",
    "# RMSE Comparison Chart\n",
    "rmse_bar = axes[0].bar(model_names, rmse_values, color=['blue', 'green', 'orange', 'red', 'purple'])\n",
    "axes[0].set_xlabel('Models')\n",
    "axes[0].set_ylabel('RMSE')\n",
    "axes[0].set_title('RMSE Comparison between Models')\n",
    "axes[0].set_xticks(range(len(model_names))) # Setting tick locations\n",
    "axes[0].set_xticklabels(model_names, rotation=45, ha='right') # Label rotation\n",
    "\n",
    "# Training Time Comparison Chart\n",
    "train_time_bar = axes[1].bar(model_names, train_times, color=['blue', 'green', 'orange', 'red', 'purple'])\n",
    "axes[1].set_xlabel('Models')\n",
    "axes[1].set_ylabel('Training time (s)')\n",
    "axes[1].set_title('Training Time Comparison between Models')\n",
    "axes[1].set_xticks(range(len(model_names))) # Setting tick locations\n",
    "axes[1].set_xticklabels(model_names, rotation=45, ha='right') # Label rotation\n",
    "\n",
    "# Test Time Comparison Chart\n",
    "test_time_bar = axes[2].bar(model_names, test_times, color=['blue', 'green', 'orange', 'red', 'purple'])\n",
    "axes[2].set_xlabel('Models')\n",
    "axes[2].set_ylabel('Test time (s)')\n",
    "axes[2].set_title('Test Time Comparison between Models')\n",
    "axes[2].set_xticks(range(len(model_names))) # Setting tick locations\n",
    "axes[2].set_xticklabels(model_names, rotation=45, ha='right') # Label rotation\n",
    "\n",
    "plt.tight_layout()\n",
    "plt.show()"
   ]
  },
  {
   "cell_type": "markdown",
   "metadata": {},
   "source": [
    "We can see that, although both CatBoost and LightGBM presented the best RMSE values, LightGBM took considerably more computational time than all others (at least 4 times slower than any other)."
   ]
  },
  {
   "cell_type": "markdown",
   "metadata": {},
   "source": [
    "### XGBoost\n",
    "\n",
    "XGBoost is a gradient enhancement method that uses asymmetric trees like LightGBM, but differs in the way its trees grow, which grow by levels and not by their leaves, thus obtaining larger and more complex trees that make the model more time consuming to make predictions and train yourself.\n",
    "\n",
    "Furthermore, unlike LightGBM and Catboost, XGBoost does not have its own implementation for categorical features and only accepts numerical features, therefore it requires pre-processing via One-Hot Encoding to be able to process categorical data.\n",
    "\n",
    "For this reason, we will use our training and test sets that have already been pre-processed by OHE during the linear regression `x_train_ohe`, `x_test_ohe`.\n",
    "\n",
    "\n",
    "**Note**: Since the hyperparameter tuning for this model took about an hour and a half, the code will be presented as comments so as not to increase kernel execution time."
   ]
  },
  {
   "cell_type": "markdown",
   "metadata": {},
   "source": [
    "**Adjustment of Hyperparameters**"
   ]
  },
  {
   "cell_type": "code",
   "execution_count": 92,
   "metadata": {},
   "outputs": [],
   "source": [
    "# # establishing a set of hyperparameters to be analyzed\n",
    "# params_xgboost = {\n",
    "#     'max_depth': [4, 6, 8],\n",
    "#     'n_estimators': [50, 100]\n",
    "\n",
    "# }\n",
    "\n",
    "# # setting the estimator and calling the GridSearchCV function\n",
    "# xboost_est = XGBRegressor()\n",
    "\n",
    "# gridSearch_xboost = GridSearchCV(\n",
    "#     estimator=xboost_est,\n",
    "#     param_grid=params_xgboost,\n",
    "#     scoring='neg_root_mean_squared_error',\n",
    "#     cv=3\n",
    "# )\n",
    "\n",
    "# # training the model in search of the best hyperparameters\n",
    "# start = time.time()\n",
    "# gridSearch_xboost.fit(x_train_ohe, y_train_ohe)\n",
    "# end = time.time()\n",
    "# print(f'XGBoost hyperparameter setting time: {end-start:.3f}s')"
   ]
  },
  {
   "cell_type": "markdown",
   "metadata": {},
   "source": [
    "XGBoost hyperparameter tuning time: 4742.121s"
   ]
  },
  {
   "cell_type": "code",
   "execution_count": 93,
   "metadata": {},
   "outputs": [],
   "source": [
    "# # fetching the best model hyperparameters\n",
    "# max_score = gridSearch_xboost.cv_results_[\"mean_test_score\"].max()\n",
    "# index_max_score = np.where(gridSearch_xboost.cv_results_[\"mean_test_score\"] == max_score)[0][0]\n",
    "\n",
    "# best_set_of_params = gridSearch_xboost.cv_results_[\"params\"][index_max_score]\n",
    "\n",
    "# print(f'Best hyperparameters: {best_set_of_params} | Best RMSE: {-max_score:.3f}')"
   ]
  },
  {
   "cell_type": "markdown",
   "metadata": {},
   "source": [
    "Best hyperparameters: 'max_depth': 8, 'n_estimators': 100\n",
    "\n",
    "Best RMSE: 1661,763\n",
    "\n",
    "**Model Training**"
   ]
  },
  {
   "cell_type": "code",
   "execution_count": null,
   "metadata": {},
   "outputs": [],
   "source": [
    "# training our model with the best hyperparameters\n",
    "# and performing predictions on the test set\n",
    "xgboost_model = XGBRegressor(random_state=12345, max_depth=8, n_estimators=100)\n",
    "\n",
    "start_train = time.time()\n",
    "xgboost_model.fit(x_train_ohe, y_train_ohe)\n",
    "end_train = time.time()\n",
    "\n",
    "start_test = time.time()\n",
    "y_pred_xgb = xgboost_model.predict(x_test_ohe)\n",
    "end_test = time.time()\n",
    "\n",
    "train_time_xb = end_train - start_train\n",
    "test_time_xb = end_test - start_test\n",
    "\n",
    "rmse_xgboost = mean_squared_error(y_test_ohe, y_pred_xgb)**0.5\n",
    "print(f'RMSE XGBoost: {rmse_xgboost:.3f}')\n",
    "print(f'Training time: {train_time_xb:.3f}s')\n",
    "print(f'Test time: {test_time_xb:.3f}s')"
   ]
  },
  {
   "cell_type": "markdown",
   "metadata": {},
   "source": [
    "The hyperparameter tuning time for XGBoost was the longest on record, nearly an hour and a half. The best hyperparameters obtained were {'n_estimators': 100, 'max_depth': 8} which generated an RMSE of 1634 and a training time ≈622s and the prediction speed was ≈1.36s"
   ]
  },
  {
   "cell_type": "markdown",
   "metadata": {},
   "source": [
    "## Model Analysis\n",
    "\n",
    "Let's put all the values of the results in a table and graphs so that we can more easily analyze what we have obtained:"
   ]
  },
  {
   "cell_type": "code",
   "execution_count": null,
   "metadata": {},
   "outputs": [],
   "source": [
    "# creating a DataFrame with the results\n",
    "model_names = ['Linear Regression', 'Decision Tree', 'Random Forest', 'CatBoost', 'LightGBM', 'XGBoost']\n",
    "rmse_values = [rmse_lr, rmse_dt, rmse_rf, rmse_catboost, rmse_lightgbm, rmse_xgboost]\n",
    "train_times = [train_time_lr, train_time_dt, train_time_rf, train_time_cb, train_time_lg, train_time_xb]\n",
    "test_times = [test_time_lr, test_time_dt, test_time_rf, test_time_cb, test_time_lg, test_time_xb]\n",
    "hyperparam_times = [0, 0, 150668, 383079, 3276484, 4742121]\n",
    "\n",
    "models_table = pd.DataFrame({\n",
    "    'Model': model_names,\n",
    "    'RMSE': rmse_values,\n",
    "    'Hyperparam Tune Time': hyperparam_times,\n",
    "    'Training Time': train_times,\n",
    "    'Test Time': test_times\n",
    "})\n",
    "\n",
    "# displaying the table\n",
    "models_table"
   ]
  },
  {
   "cell_type": "code",
   "execution_count": null,
   "metadata": {},
   "outputs": [],
   "source": [
    "fig, axes = plt.subplots(nrows=1, ncols=3, figsize=(15, 5))\n",
    "\n",
    "# RMSE Comparison Chart\n",
    "rmse_bar = axes[0].bar(model_names, rmse_values, color=['blue', 'green', 'orange', 'red', 'purple', 'pink'])\n",
    "axes[0].set_xlabel('Models')\n",
    "axes[0].set_ylabel('RMSE')\n",
    "axes[0].set_title('RMSE Comparison between Models')\n",
    "axes[0].set_xticks(range(len(model_names))) # Setting tick locations\n",
    "axes[0].set_xticklabels(model_names, rotation=45, ha='right') # Label rotation\n",
    "\n",
    "# Training Time Comparison Chart\n",
    "train_time_bar = axes[1].bar(model_names, train_times, color=['blue', 'green', 'orange', 'red', 'purple', 'pink'])\n",
    "axes[1].set_xlabel('Models')\n",
    "axes[1].set_ylabel('Training time (s)')\n",
    "axes[1].set_title('Training Time Comparison between Models')\n",
    "axes[1].set_xticks(range(len(model_names))) # Setting tick locations\n",
    "axes[1].set_xticklabels(model_names, rotation=45, ha='right') # Label rotation\n",
    "\n",
    "# Test Time Comparison Chart\n",
    "test_time_bar = axes[2].bar(model_names, test_times, color=['blue', 'green', 'orange', 'red', 'purple', 'pink'])\n",
    "axes[2].set_xlabel('Models')\n",
    "axes[2].set_ylabel('Test time (s)')\n",
    "axes[2].set_title('Test Time Comparison between Models')\n",
    "axes[2].set_xticks(range(len(model_names))) # Setting tick locations\n",
    "axes[2].set_xticklabels(model_names, rotation=45, ha='right') # Label rotation\n",
    "\n",
    "plt.tight_layout()\n",
    "plt.show()"
   ]
  },
  {
   "cell_type": "markdown",
   "metadata": {},
   "source": [
    "**Linear Regression:**\n",
    "\n",
    "* RMSE: 2844.64 - Shows high variance between actual predictions and model predictions.\n",
    "* Hyperparameter adjustment time: 0.00 seconds - There was no hyperparameter adjustment.\n",
    "* Training time: 21.43 seconds - Fairly fast.\n",
    "* Test time: 0.19 seconds - Fast.\n",
    "\n",
    "\n",
    "**Decision tree:**\n",
    "\n",
    "* RMSE: 2331.31 - Lower RMSE compared to linear regression, but still with considerable error.\n",
    "* Hyperparameter adjustment time: 0.00 seconds - There was no hyperparameter adjustment.\n",
    "* Training time: 0.45 seconds - Very fast.\n",
    "* Test time: 0.01 seconds - Fast.\n",
    "\n",
    "\n",
    "**Random Forest:**\n",
    "\n",
    "* RMSE: 2271.99 - Slightly better than the decision tree in terms of RMSE.\n",
    "* Hyperparameters adjustment time: 150.67 seconds - Considerable time to adjust hyperparameters.\n",
    "* Training time: 13.12 seconds - Fast for an ensemble model.\n",
    "* Test time: 0.20 seconds - Fast.\n",
    "\n",
    "\n",
    "**CatBoost:**\n",
    "\n",
    "* RMSE: 1648.35 - Considerably better RMSE than previous models.\n",
    "* Hyperparameters adjustment time: 383.08 seconds - Considerable time to adjust hyperparameters.\n",
    "* Training time: 29.14 seconds - Still fast considering the improvement in RMSE.\n",
    "* Test time: 0.18 seconds - Fast.\n",
    "\n",
    "\n",
    "**LightGBM:**\n",
    "\n",
    "* RMSE: 1616.84 - Lowest RMSE among the models, indicating good forecast quality.\n",
    "* Hyperparameter tuning time: 3276.48 seconds - The longest tuning time among models.\n",
    "* Training time: 172.72 seconds - Reasonable time for a model with good performance.\n",
    "*Test time: 2.01 seconds - A little slower compared to other models.\n",
    "\n",
    "\n",
    "**XGBoost:**\n",
    "\n",
    "* RMSE: 1634.93 - Competitive RMSE, but slightly higher than LightGBM and CatBoost.\n",
    "* Hyperparameter tuning time: 4742.12 seconds - Longest tuning time among all models.\n",
    "* Training time: 622.57 seconds - The longest training time among all models.\n",
    "* Test time: 1.37 seconds - Fast for a model that requires more training time.\n",
    "\n",
    "\n",
    "**Overall analysis:**\n",
    "\n",
    "* Ensemble models (Random Forest, CatBoost, LightGBM, and XGBoost) outperformed linear regression and decision tree in terms of prediction quality (lowest RMSE).\n",
    "* LightGBM had the lowest RMSE, followed by CatBoost and XGBoost.\n",
    "* CatBoost struck a good balance between prediction quality and computational efficiency, with a competitive RMSE and reasonable training and testing times.\n",
    "* XGBoost had more time consuming training and hyperparameter tuning, but still provided a reasonable prediction."
   ]
  },
  {
   "cell_type": "markdown",
   "metadata": {},
   "source": [
    "## Conclusions\n"
   ]
  },
  {
   "cell_type": "markdown",
   "metadata": {},
   "source": [
    "Based on the goals set by the project and the detailed analysis of the different machine learning models, as well as the quality of their predictions, prediction speed and training time, we reached some important conclusions:\n",
    "\n",
    "### Prediction Quality:\n",
    "\n",
    "Gradient boosting based models such as CatBoost, LightGBM and XGBoost significantly outperformed simple models such as Linear Regression and Decision Tree in terms of prediction quality (lowest RMSE).\n",
    "LightGBM performed the best, with the lowest RMSE among all models, closely followed by CatBoost and XGBoost.\n",
    "\n",
    "\n",
    "### Prediction Speed:\n",
    "\n",
    "The fastest models in terms of prediction time were Decision Tree and Linear Regression, followed by CatBoost and XGBoost.\n",
    "LightGBM and Random Forest showed slightly longer prediction times, but still reasonable for models with good prediction quality.\n",
    "\n",
    "\n",
    "### Training time:\n",
    "\n",
    "Linear Regression and Decision Tree were the fastest in terms of training time.\n",
    "Among the ensemble models, CatBoost had a relatively low training time compared to its prediction quality, while XGBoost had the longest training time.\n",
    "\n",
    "\n",
    "### Hyperparameter Adjustment:\n",
    "\n",
    "Tuning hyperparameters is crucial to improving the performance of ensemble models.\n",
    "Models such as CatBoost, LightGBM and XGBoost showed considerable improvements in forecasting quality after adjusting hyperparameters.\n",
    "XGBoost required the most time for hyperparameter tuning, followed by LightGBM and CatBoost.\n",
    "\n",
    "\n",
    "### Model Choice:\n",
    "\n",
    "Based on a comprehensive analysis of training quality, speed, and time metrics, CatBoost appears to be a solid choice for Rusty Bargain.\n",
    "\n",
    "CatBoost has achieved a good balance between prediction quality, prediction speed and training time, making it suitable for deployment in an application.\n",
    "\n",
    "\n",
    "### Final Recommendation:\n",
    "\n",
    "Based on Rusty Bargain's goals, **we recommend implementing the CatBoost model** to predict used car prices.\n",
    "CatBoost performed well in all relevant metrics and should meet established quality and speed requirements.\n",
    "\n",
    "\n",
    "This project highlighted the importance of exploring and comparing different machine learning algorithms, tuning hyperparameters, and carefully analyzing relevant metrics to make informed decisions about model selection. In addition, we learned how to deal with categorical features in different ways, depending on the algorithm used, and how to evaluate the performance of models in terms of prediction speed and quality."
   ]
  }
 ],
 "metadata": {
  "kernelspec": {
   "display_name": "Python 3 (ipykernel)",
   "language": "python",
   "name": "python3"
  },
  "language_info": {
   "codemirror_mode": {
    "name": "ipython",
    "version": 3
   },
   "file_extension": ".py",
   "mimetype": "text/x-python",
   "name": "python",
   "nbconvert_exporter": "python",
   "pygments_lexer": "ipython3",
   "version": "3.9.5"
  },
  "toc": {
   "base_numbering": 1,
   "nav_menu": {},
   "number_sections": true,
   "sideBar": true,
   "skip_h1_title": true,
   "title_cell": "Table of Contents",
   "title_sidebar": "Contents",
   "toc_cell": false,
   "toc_position": {
    "height": "calc(100% - 180px)",
    "left": "10px",
    "top": "150px",
    "width": "208.625px"
   },
   "toc_section_display": true,
   "toc_window_display": false
  }
 },
 "nbformat": 4,
 "nbformat_minor": 2
}
